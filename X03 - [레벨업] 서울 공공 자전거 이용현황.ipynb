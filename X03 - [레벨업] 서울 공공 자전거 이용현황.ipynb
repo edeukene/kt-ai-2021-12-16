{
 "cells": [
  {
   "cell_type": "markdown",
   "metadata": {
    "id": "E-qoYWgOC_yk"
   },
   "source": [
    "<center><img src='https://raw.githubusercontent.com/Jangrae/img/master/title.png' width=500/></center>"
   ]
  },
  {
   "cell_type": "markdown",
   "metadata": {
    "id": "BFhIXgdYoYGp"
   },
   "source": [
    "<center><img src='https://raw.githubusercontent.com/Jangrae/img/master/practice3.png' width=300/></center>"
   ]
  },
  {
   "cell_type": "markdown",
   "metadata": {
    "id": "caM-C-vIyXAV"
   },
   "source": [
    "<center>본 실습에서 요구하는 내용 외에도 다양한 내용을 스스로 추가하여  탐색하고 분석해 보기를 권고합니다.</center>"
   ]
  },
  {
   "cell_type": "markdown",
   "metadata": {
    "id": "Xi_yurwiORB7"
   },
   "source": [
    "# 서울 공공 자전거 이용 현황"
   ]
  },
  {
   "cell_type": "markdown",
   "metadata": {
    "id": "9D-jtyRW6hjJ"
   },
   "source": [
    "<img src='https://raw.githubusercontent.com/Jangrae/img/master/seoul_bike.png' width=\"650\" align=\"left\">"
   ]
  },
  {
   "cell_type": "markdown",
   "metadata": {
    "id": "qb1iLyXwGlnw"
   },
   "source": [
    "## 1.환경 설정\n",
    "\n",
    "- 데이터 탐색과 전처리를 하기 전 라이브러리와 파일을 읽어옵니다.\n",
    "- 시각화에 한글이 포함된 경우 이에 대한 설정을 진행합니다."
   ]
  },
  {
   "cell_type": "markdown",
   "metadata": {
    "id": "PK8ZI9P5mRV8"
   },
   "source": [
    "**1) 한글 설정**\n",
    "\n",
    "- Jupyter Notebook 시각화에 한글이 표시되게 설정합니다."
   ]
  },
  {
   "cell_type": "code",
   "execution_count": 4,
   "metadata": {
    "id": "lyk2U1RZmRV9"
   },
   "outputs": [],
   "source": [
    "# 라이브러리 불러오기\n",
    "import matplotlib \n",
    "import matplotlib.pyplot as plt\n",
    "\n",
    "# 폰트설정\n",
    "# matplotlib.font_manager._rebuild()\n",
    "plt.rc('font', family='Malgun Gothic')\n",
    "plt.rcParams['axes.unicode_minus'] = False"
   ]
  },
  {
   "cell_type": "code",
   "execution_count": null,
   "metadata": {},
   "outputs": [],
   "source": []
  },
  {
   "cell_type": "code",
   "execution_count": null,
   "metadata": {},
   "outputs": [],
   "source": []
  },
  {
   "cell_type": "markdown",
   "metadata": {
    "id": "0uNXxebRGrd8"
   },
   "source": [
    "**2) 라이브러리 불러오기**\n",
    "\n",
    "- 사용할 라이브러리를 불러옵니다."
   ]
  },
  {
   "cell_type": "code",
   "execution_count": 5,
   "metadata": {
    "id": "p3lUS_fyqvnh"
   },
   "outputs": [],
   "source": [
    "# 라이브러리 불러오기\n",
    "import numpy as np\n",
    "import pandas as pd\n",
    "import matplotlib.pyplot as plt\n",
    "\n",
    "%config InlineBackend.figure_format = 'retina'"
   ]
  },
  {
   "cell_type": "markdown",
   "metadata": {
    "id": "ul8zKgxCqvnh"
   },
   "source": [
    "**3) 데이터 읽어오기**\n",
    "\n",
    "- 다음 경로의 파일을 읽어와 bike 데이터프레임을 만듭니다.\n",
    "- 파일 경로: 'https://raw.githubusercontent.com/Jangrae/csv/master/seoul_bike_202106.csv'\n",
    "- 단축 경로: 'https://bit.ly/SeoulBikeFile'\n",
    "- Decoding 오류가 발생하면 encoding='CP949' 옵션을 지정해 불러옵니다."
   ]
  },
  {
   "cell_type": "code",
   "execution_count": 6,
   "metadata": {
    "id": "enhGxkyt0KcI"
   },
   "outputs": [],
   "source": [
    "# 데이터 읽어오기\n",
    "path = 'https://bit.ly/SeoulBikeFile'\n",
    "\n",
    "bike = pd.read_csv(path,encoding='CP949')\n"
   ]
  },
  {
   "cell_type": "markdown",
   "metadata": {
    "id": "1O_usuOg0KcP"
   },
   "source": [
    "## 2.데이터 탐색\n",
    "\n",
    "다음과 같은 정보 확인을 통해 처리할 대상 데이터를 이해합니다.\n",
    "- 상/하위 데이터 확인\n",
    "- 데이터프레임 크기 확인\n",
    "- 열 이름, 데이터 형식, 값 개수 등 확인\n",
    "- 기초 통계정보 확인\n",
    "- 결측치 확인\n",
    "- 범주형 데이터 확인\n",
    "- 개별 열 값 상세 확인 등"
   ]
  },
  {
   "cell_type": "markdown",
   "metadata": {
    "id": "Lxus78Ii0KcR"
   },
   "source": [
    "**1) 상/하위 데이터 확인**\n",
    "\n",
    "- 상/하위 데이터를 확인합니다."
   ]
  },
  {
   "cell_type": "code",
   "execution_count": 7,
   "metadata": {
    "id": "L10e2SPG0KcS",
    "scrolled": true
   },
   "outputs": [
    {
     "name": "stdout",
     "output_type": "stream",
     "text": [
      "      대여일자  대여소번호  대여소명  대여구분코드   성별    연령대코드  이용건수     운동량   탄소량   이동거리(M)  \\\n",
      "0  2021-06      3  중랑센터  일일(회원)    F  AGE_003     1   11.23  0.12    506.18   \n",
      "1  2021-06      3  중랑센터      정기  NaN  AGE_003     2  107.00  0.79   3377.56   \n",
      "2  2021-06      3  중랑센터      정기    M  AGE_002     6  352.15  3.18  13680.88   \n",
      "3  2021-06      3  중랑센터      정기    M  AGE_004     3   61.55  0.50   2158.72   \n",
      "4  2021-06      3  중랑센터      정기    M  AGE_005     3  125.30  1.10   4722.60   \n",
      "\n",
      "   이용시간(분)  \n",
      "0       17  \n",
      "1       17  \n",
      "2       81  \n",
      "3       21  \n",
      "4       36  \n"
     ]
    }
   ],
   "source": [
    "# 상위 5개 행 확인\n",
    "print(bike.head(5))"
   ]
  },
  {
   "cell_type": "code",
   "execution_count": 8,
   "metadata": {
    "id": "r6tiodOr0KcZ",
    "scrolled": true
   },
   "outputs": [
    {
     "name": "stdout",
     "output_type": "stream",
     "text": [
      "           대여일자  대여소번호            대여소명  대여구분코드   성별    연령대코드  이용건수     운동량  \\\n",
      "119855  2021-06  88888      88888.영남배송      정기    F  AGE_002     1    0.00   \n",
      "119856  2021-06  88888      88888.영남배송      정기    M  AGE_002     2  218.93   \n",
      "119857  2021-06  88888      88888.영남배송      정기    M  AGE_003     1    8.32   \n",
      "119858  2021-06  99997          도봉정비센터  일일(회원)    M  AGE_005     1     NaN   \n",
      "119859  2021-06  99999  99999. 영남단말기정비      정기  NaN  AGE_008     6    0.00   \n",
      "\n",
      "         탄소량  이동거리(M)  이용시간(분)  \n",
      "119855  0.00     0.00        9  \n",
      "119856  1.97  8505.59       79  \n",
      "119857  0.07   283.84       41  \n",
      "119858   NaN     0.00        4  \n",
      "119859  0.00     0.00      235  \n"
     ]
    }
   ],
   "source": [
    "# 하위 5개 행 확인\n",
    "print(bike.tail(5))"
   ]
  },
  {
   "cell_type": "markdown",
   "metadata": {
    "id": "KXhMyTdu0Kcf"
   },
   "source": [
    "**2) 열 데이터 형식, 값 개수**\n",
    "\n",
    "- 어떤 열이 있고, 몇 개의 값들을 갖는지, 데이터 형식은 어떠한 지 확인합니다."
   ]
  },
  {
   "cell_type": "code",
   "execution_count": 9,
   "metadata": {
    "id": "1YeG0s8p0Kcg",
    "scrolled": false
   },
   "outputs": [
    {
     "name": "stdout",
     "output_type": "stream",
     "text": [
      "<class 'pandas.core.frame.DataFrame'>\n",
      "RangeIndex: 119860 entries, 0 to 119859\n",
      "Data columns (total 11 columns):\n",
      " #   Column   Non-Null Count   Dtype  \n",
      "---  ------   --------------   -----  \n",
      " 0   대여일자     119860 non-null  object \n",
      " 1   대여소번호    119860 non-null  int64  \n",
      " 2   대여소명     119860 non-null  object \n",
      " 3   대여구분코드   119860 non-null  object \n",
      " 4   성별       67702 non-null   object \n",
      " 5   연령대코드    119860 non-null  object \n",
      " 6   이용건수     119860 non-null  int64  \n",
      " 7   운동량      119698 non-null  float64\n",
      " 8   탄소량      119698 non-null  float64\n",
      " 9   이동거리(M)  119860 non-null  float64\n",
      " 10  이용시간(분)  119860 non-null  int64  \n",
      "dtypes: float64(3), int64(3), object(5)\n",
      "memory usage: 10.1+ MB\n",
      "None\n"
     ]
    }
   ],
   "source": [
    "# 열 정보 확인\n",
    "print(bike.info())"
   ]
  },
  {
   "cell_type": "markdown",
   "metadata": {
    "id": "AAxqBZJhfjDY"
   },
   "source": [
    "**3) 기초통계정보 확인**\n",
    "\n",
    "- 기초통계정보를 통해 데이터 분포 상황을 살펴봅니다."
   ]
  },
  {
   "cell_type": "code",
   "execution_count": 10,
   "metadata": {
    "id": "l_rRFp8QvGs_",
    "scrolled": false
   },
   "outputs": [
    {
     "name": "stdout",
     "output_type": "stream",
     "text": [
      "               대여소번호           이용건수           운동량            탄소량  \\\n",
      "count  119860.000000  119860.000000  1.196980e+05  119698.000000   \n",
      "mean     1902.517437      28.870407  8.869655e+03      20.455260   \n",
      "std      1453.116590      56.813723  1.335818e+06      42.948015   \n",
      "min         3.000000       1.000000  0.000000e+00       0.000000   \n",
      "25%       806.000000       3.000000  2.032625e+02       1.840000   \n",
      "50%      1640.000000       9.000000  7.376450e+02       6.590000   \n",
      "75%      2654.000000      30.000000  2.454695e+03      21.720000   \n",
      "max     99999.000000    1617.000000  4.000089e+08    2376.180000   \n",
      "\n",
      "            이동거리(M)        이용시간(분)  \n",
      "count  1.198600e+05  119860.000000  \n",
      "mean   8.805111e+04     749.706699  \n",
      "std    1.850256e+05    1504.361808  \n",
      "min    0.000000e+00       0.000000  \n",
      "25%    7.870930e+03      76.000000  \n",
      "50%    2.830418e+04     255.000000  \n",
      "75%    9.339718e+04     812.000000  \n",
      "max    1.024219e+07   87111.000000  \n"
     ]
    }
   ],
   "source": [
    "# 기초통계정보 \n",
    "print(bike.describe())"
   ]
  },
  {
   "cell_type": "markdown",
   "metadata": {
    "id": "etPLyqBrXLY0"
   },
   "source": [
    "**4) 결측치 확인**\n",
    "\n",
    "- 결측치가 있는 지 확인합니다."
   ]
  },
  {
   "cell_type": "code",
   "execution_count": 11,
   "metadata": {
    "id": "JNjUwfhwXPjq",
    "scrolled": true
   },
   "outputs": [
    {
     "name": "stdout",
     "output_type": "stream",
     "text": [
      "대여일자           0\n",
      "대여소번호          0\n",
      "대여소명           0\n",
      "대여구분코드         0\n",
      "성별         52158\n",
      "연령대코드          0\n",
      "이용건수           0\n",
      "운동량          162\n",
      "탄소량          162\n",
      "이동거리(M)        0\n",
      "이용시간(분)        0\n",
      "dtype: int64\n"
     ]
    }
   ],
   "source": [
    "# 결측치 확인\n",
    "print(bike.isna().sum())"
   ]
  },
  {
   "cell_type": "markdown",
   "metadata": {
    "id": "He81NI5TfjDZ"
   },
   "source": [
    "**5) 범주형 데이터 확인**\n",
    "\n",
    "- 범주형 값을 갖는 열의 범주 값과 그 값의 개수를 확인합니다."
   ]
  },
  {
   "cell_type": "markdown",
   "metadata": {
    "id": "0vDpa3mtfjDZ"
   },
   "source": [
    "- 대여구분코드"
   ]
  },
  {
   "cell_type": "code",
   "execution_count": 12,
   "metadata": {
    "id": "9OuNEDwDyb7y",
    "scrolled": true
   },
   "outputs": [
    {
     "name": "stdout",
     "output_type": "stream",
     "text": [
      "    대여구분코드      대여소번호     이용건수           운동량         탄소량       이동거리(M)  \\\n",
      "0   10분이용권    3776817     3876  1.132314e+05      991.44  4.274306e+06   \n",
      "1       단체   15646610    30028  3.433759e+06    30675.98  1.322239e+08   \n",
      "2  일일(비회원)    5256632    38990  4.922232e+06    44366.63  1.912331e+08   \n",
      "3   일일(회원)   86492228   679155  7.321272e+07   656410.54  2.829384e+09   \n",
      "4       정기  116863453  2708358  9.799980e+08  1716009.17  7.396691e+09   \n",
      "\n",
      "    이용시간(분)  \n",
      "0     37283  \n",
      "1   1276942  \n",
      "2   1883627  \n",
      "3  24254979  \n",
      "4  62407014  \n"
     ]
    }
   ],
   "source": [
    "# 대여구분코드\n",
    "print(bike.groupby('대여구분코드',as_index=False).sum())"
   ]
  },
  {
   "cell_type": "markdown",
   "metadata": {
    "id": "DOk1H6xefjDZ"
   },
   "source": [
    "- 성별"
   ]
  },
  {
   "cell_type": "code",
   "execution_count": 13,
   "metadata": {
    "id": "qlJShcawyib6",
    "scrolled": true
   },
   "outputs": [
    {
     "name": "stdout",
     "output_type": "stream",
     "text": [
      "  성별     대여소번호     이용건수           운동량        탄소량       이동거리(M)   이용시간(분)\n",
      "0  F  61283325   828959  6.232965e+07  617468.14  2.661530e+09  23319213\n",
      "1  M  67788110  1199997  8.855555e+08  829552.92  3.575694e+09  29891351\n",
      "2  f     15517       82  4.770130e+03      46.96  2.022938e+05      1800\n",
      "3  m     28718      275  3.130234e+04     238.93  1.029323e+06      8463\n"
     ]
    }
   ],
   "source": [
    "# 성별\n",
    "print(bike.groupby('성별',as_index=False).sum())"
   ]
  },
  {
   "cell_type": "markdown",
   "metadata": {
    "id": "WFSlP0KufjDa"
   },
   "source": [
    "- 연령대코드"
   ]
  },
  {
   "cell_type": "code",
   "execution_count": 14,
   "metadata": {
    "id": "IqnVl3XcymKT",
    "scrolled": true
   },
   "outputs": [
    {
     "name": "stdout",
     "output_type": "stream",
     "text": [
      "     연령대코드     대여소번호     이용건수           운동량        탄소량       이동거리(M)   이용시간(분)\n",
      "0  AGE_001  27280564   146624  8.933862e+06   80400.13  3.465484e+08   3209948\n",
      "1  AGE_002  42559800  1281486  9.347963e+07  841827.79  3.628609e+09  30288285\n",
      "2  AGE_003  37881869   747235  6.000696e+07  516915.91  2.228110e+09  18722973\n",
      "3  AGE_004  35448922   443311  3.928605e+07  329950.16  1.422212e+09  12151583\n",
      "4  AGE_005  27565608   269431  8.065601e+08  210701.19  9.082175e+08   7662873\n",
      "5  AGE_006  15107675    71019  6.372385e+06   55709.43  2.401332e+08   2158236\n",
      "6  AGE_007   4973842    10126  8.209124e+05    7172.06  3.091325e+07    303997\n",
      "7  AGE_008  37217460   491175  4.621998e+07  405777.09  1.749062e+09  15361950\n"
     ]
    }
   ],
   "source": [
    "# 연령대코드\n",
    "print(bike.groupby('연령대코드',as_index=False).sum())"
   ]
  },
  {
   "cell_type": "markdown",
   "metadata": {
    "id": "NdgmZo18fjDa"
   },
   "source": [
    "- 대여소명"
   ]
  },
  {
   "cell_type": "code",
   "execution_count": 15,
   "metadata": {
    "id": "a4ZnKFjByyv6",
    "scrolled": false
   },
   "outputs": [
    {
     "name": "stdout",
     "output_type": "stream",
     "text": [
      "                           대여소명   대여소번호  이용건수        운동량      탄소량  \\\n",
      "0     1001. 광진교 남단 사거리(디지털프라자앞)   64064  2034  161447.98  1430.61   \n",
      "1               1002. 해공공원(천호동)   64128  3024  273359.81  2421.60   \n",
      "2                  1003. 해공도서관앞   52156  1188   88108.96   785.65   \n",
      "3          1004. 삼성광나루아파트 버스정류장   56224  1532  162990.54  1422.76   \n",
      "4              1006. 롯데캐슬 115동앞   48288   391   32625.06   284.84   \n",
      "...                         ...     ...   ...        ...      ...   \n",
      "2466                       상담센터  459954   190   10492.48    88.51   \n",
      "2467                   상암센터 정비실      10     5     359.48     3.09   \n",
      "2468                        위트콤      40    10      29.15     0.27   \n",
      "2469                       중랑센터      21    17     830.73     6.97   \n",
      "2470                       천호센터    9988     1       0.00     0.00   \n",
      "\n",
      "          이동거리(M)  이용시간(분)  \n",
      "0      6168753.98    53504  \n",
      "1     10437767.06    90975  \n",
      "2      3386051.07    31160  \n",
      "3      6132689.03    52228  \n",
      "4      1228051.95    10640  \n",
      "...           ...      ...  \n",
      "2466    381776.03     5948  \n",
      "2467     13349.51       74  \n",
      "2468      1150.14      209  \n",
      "2469     29993.84      213  \n",
      "2470         0.00        0  \n",
      "\n",
      "[2471 rows x 7 columns]\n"
     ]
    }
   ],
   "source": [
    "# 대여소명\n",
    "print(bike.groupby('대여소명',as_index=False).sum())"
   ]
  },
  {
   "cell_type": "markdown",
   "metadata": {
    "id": "YNUv-USzuLiW"
   },
   "source": [
    "## 3.데이터 전처리\n",
    "\n",
    "전처리 과정에서 다음과 같은 처리를 할 수 있습니다.\n",
    "\n",
    "- 결측치 처리\n",
    "- 값 변경\n",
    "- 열 추가\n",
    "- 불필요한 열 제거\n",
    "- 열 이름 변경\n",
    "- 데이터 통합(연결 또는 조인)\n",
    "- 가변수화 등"
   ]
  },
  {
   "cell_type": "markdown",
   "metadata": {
    "id": "h54wZpNy1V4E"
   },
   "source": [
    "**1) 결측치 제거**\n",
    "\n",
    "- 운동량, 탄소량 열은 결측치가 있는 행이 동일하고 몇 건 안되니 제거합니다."
   ]
  },
  {
   "cell_type": "code",
   "execution_count": 16,
   "metadata": {
    "id": "rCKtycsTwn-9",
    "scrolled": true
   },
   "outputs": [
    {
     "name": "stdout",
     "output_type": "stream",
     "text": [
      "대여일자           0\n",
      "대여소번호          0\n",
      "대여소명           0\n",
      "대여구분코드         0\n",
      "성별         52070\n",
      "연령대코드          0\n",
      "이용건수           0\n",
      "운동량            0\n",
      "탄소량            0\n",
      "이동거리(M)        0\n",
      "이용시간(분)        0\n",
      "dtype: int64\n"
     ]
    }
   ],
   "source": [
    "# 결측치 제거\n",
    "bike.dropna(subset=['운동량'],axis=0,inplace=True)\n",
    "print(bike.isna().sum())\n",
    "# 확인\n"
   ]
  },
  {
   "cell_type": "markdown",
   "metadata": {
    "id": "laI21acz1aDd"
   },
   "source": [
    "**2) 결측치 채우기**\n",
    "\n",
    "- 성별 열은 결측치가 너무 많습니다. \n",
    "- 성별별 분석 시 '남','녀' 외에 '기타'로 분석되게 'X'로 채웁니다."
   ]
  },
  {
   "cell_type": "code",
   "execution_count": 17,
   "metadata": {
    "id": "rh1ZPDFOyD3u",
    "scrolled": true
   },
   "outputs": [
    {
     "name": "stdout",
     "output_type": "stream",
     "text": [
      "대여일자       0\n",
      "대여소번호      0\n",
      "대여소명       0\n",
      "대여구분코드     0\n",
      "성별         0\n",
      "연령대코드      0\n",
      "이용건수       0\n",
      "운동량        0\n",
      "탄소량        0\n",
      "이동거리(M)    0\n",
      "이용시간(분)    0\n",
      "dtype: int64\n"
     ]
    }
   ],
   "source": [
    "# 결측치 채우기\n",
    "bike['성별'].fillna('X',inplace=True)\n",
    "print(bike.isna().sum())\n",
    "# 확인\n"
   ]
  },
  {
   "cell_type": "markdown",
   "metadata": {
    "id": "Rob2jyHX1dir"
   },
   "source": [
    "**3) 데이터 변경**\n",
    "\n",
    "- 성별이 소문자 m. f인 값을 대문자 M. F로 변경합니다."
   ]
  },
  {
   "cell_type": "code",
   "execution_count": 18,
   "metadata": {
    "id": "yE_L0aEay_XH",
    "scrolled": false
   },
   "outputs": [
    {
     "name": "stdout",
     "output_type": "stream",
     "text": [
      "0         F\n",
      "1         X\n",
      "2         M\n",
      "3         M\n",
      "4         M\n",
      "         ..\n",
      "119854    M\n",
      "119855    F\n",
      "119856    M\n",
      "119857    M\n",
      "119859    X\n",
      "Name: 성별, Length: 119698, dtype: object\n"
     ]
    }
   ],
   "source": [
    "# 성별 소문자 --> 대문자 변경\n",
    "bike = bike.replace(['m','f'],['M','F'])\n",
    "# bike['성별'] = bike['성별'].map({'m':'M','f':'F'})\n",
    "# # 확인\n",
    "print(bike['성별'])\n",
    "# print(bike.isna().sum())\n"
   ]
  },
  {
   "cell_type": "markdown",
   "metadata": {
    "id": "bRhyw32gfjDc"
   },
   "source": [
    "- 연령대 코드를 이해하기 쉽게 10대~80대로 변경합니다."
   ]
  },
  {
   "cell_type": "code",
   "execution_count": 19,
   "metadata": {
    "id": "LsGpe7zn0j4D",
    "scrolled": true
   },
   "outputs": [
    {
     "name": "stdout",
     "output_type": "stream",
     "text": [
      "0         30대\n",
      "1         30대\n",
      "2         20대\n",
      "3         40대\n",
      "4         50대\n",
      "         ... \n",
      "119854    80대\n",
      "119855    20대\n",
      "119856    20대\n",
      "119857    30대\n",
      "119859    80대\n",
      "Name: 연령대코드, Length: 119698, dtype: object\n"
     ]
    }
   ],
   "source": [
    "# 연령대 데이터 변경\n",
    "bike = bike.replace(['AGE_001','AGE_002','AGE_003','AGE_004','AGE_005','AGE_006','AGE_007','AGE_008'],['10대','20대','30대','40대','50대','60대','70대','80대'])\n",
    "print(bike['연령대코드'])\n",
    "# 확인\n"
   ]
  },
  {
   "cell_type": "markdown",
   "metadata": {
    "id": "1M0pm1He1uZU"
   },
   "source": [
    "**4) 불필요한 열 제거**\n",
    "\n",
    "- 분석에 큰 의미가 없는 대여일자, 대여소번호 열은 제거합니다."
   ]
  },
  {
   "cell_type": "code",
   "execution_count": 20,
   "metadata": {
    "id": "lyNCUjAr0RjY"
   },
   "outputs": [
    {
     "name": "stdout",
     "output_type": "stream",
     "text": [
      "       대여소명  대여구분코드 성별 연령대코드  이용건수     운동량   탄소량   이동거리(M)  이용시간(분)\n",
      "0      중랑센터  일일(회원)  F   30대     1   11.23  0.12    506.18       17\n",
      "1      중랑센터      정기  X   30대     2  107.00  0.79   3377.56       17\n",
      "2      중랑센터      정기  M   20대     6  352.15  3.18  13680.88       81\n",
      "3      중랑센터      정기  M   40대     3   61.55  0.50   2158.72       21\n",
      "4      중랑센터      정기  M   50대     3  125.30  1.10   4722.60       36\n",
      "5      중랑센터      정기  M   80대     1   57.11  0.48   2090.00       23\n",
      "6  상암센터 정비실  일일(회원)  M   40대     3  359.48  3.09  13349.51       74\n",
      "7  상암센터 정비실      정기  X   80대     2    0.00  0.00      0.00        0\n",
      "8       위트콤      단체  X   80대     4    0.00  0.00      0.00      136\n",
      "9       위트콤      정기  X   20대     1    0.00  0.00      0.00        7\n"
     ]
    }
   ],
   "source": [
    "# 대여일자, 대여소번호 제거\n",
    "\n",
    "bike.drop(['대여일자','대여소번호'],axis=1,inplace=True)\n",
    "print(bike.head(10))\n",
    "# 확인\n"
   ]
  },
  {
   "cell_type": "markdown",
   "metadata": {
    "id": "cb5bc7202P4X"
   },
   "source": [
    "**5) 열 이름 변경**\n",
    "\n",
    "- 분석에 편의를 위해 열 이름을 간단명료하게 변경합니다.\n",
    "    - 대여소명 --> 대여소\n",
    "    - 대여구분코드 --> 대여구분\n",
    "    - 연령대코드  --> 연령대\n",
    "    - 이동거리(M) --> 이동거리\n",
    "    - 이용시간(분) --> 이용시간"
   ]
  },
  {
   "cell_type": "code",
   "execution_count": 21,
   "metadata": {
    "id": "MUjdjmzT2T8r"
   },
   "outputs": [
    {
     "name": "stdout",
     "output_type": "stream",
     "text": [
      "    대여소    대여구분 성별  연령대  이용건수     운동량   탄소량      이동거리  이용시간\n",
      "0  중랑센터  일일(회원)  F  30대     1   11.23  0.12    506.18    17\n",
      "1  중랑센터      정기  X  30대     2  107.00  0.79   3377.56    17\n",
      "2  중랑센터      정기  M  20대     6  352.15  3.18  13680.88    81\n",
      "3  중랑센터      정기  M  40대     3   61.55  0.50   2158.72    21\n",
      "4  중랑센터      정기  M  50대     3  125.30  1.10   4722.60    36\n"
     ]
    }
   ],
   "source": [
    "# 열 이름 변경\n",
    "bike.rename(columns={'대여소명':'대여소','대여구분코드':'대여구분','연령대코드':'연령대','이동거리(M)':'이동거리','이용시간(분)':'이용시간'},inplace=True)\n",
    "print(bike.head(5))\n",
    "\n",
    "\n",
    "# 확인\n"
   ]
  },
  {
   "cell_type": "markdown",
   "metadata": {
    "id": "gAYdREQRrqyC"
   },
   "source": [
    "## 4.데이터 분석\n",
    "\n",
    "- 데이터를 집계하고 간단히 시각화하여 분석합니다.\n",
    "- 연속형 값은 선 그래프, 범주형 값은 막대 그래프로 시각화함이 일반적입니다."
   ]
  },
  {
   "cell_type": "markdown",
   "metadata": {
    "id": "CNHidwU4fjDe"
   },
   "source": [
    "**1) 대여구분별 이용 건수**\n",
    "\n",
    "- 대여구분별 이용 건수를 막대 그래프로 시각화해 확인합니다.\n",
    "- 이용건수 합 단위가 크니 1,000으로 나누어 시각화에 사용합니다."
   ]
  },
  {
   "cell_type": "code",
   "execution_count": 80,
   "metadata": {},
   "outputs": [
    {
     "name": "stdout",
     "output_type": "stream",
     "text": [
      "      대여구분     이용건수\n",
      "0   10분이용권     3871\n",
      "1       단체    29983\n",
      "2  일일(비회원)    38983\n",
      "3   일일(회원)   679077\n",
      "4       정기  2708317\n"
     ]
    }
   ],
   "source": [
    "tmp0 = bike.copy()\n",
    "# tmp0 = bike[['대여구분','이용건수']]\n",
    "tmp0 = tmp0.groupby('대여구분',as_index=False)[['이용건수']].sum()\n",
    "print(tmp0)"
   ]
  },
  {
   "cell_type": "code",
   "execution_count": 86,
   "metadata": {
    "id": "dswgjzwv2GVv",
    "scrolled": true
   },
   "outputs": [
    {
     "data": {
      "image/png": "[encoded data removed]",
      "text/plain": [
       "<Figure size 432x288 with 1 Axes>"
      ]
     },
     "metadata": {
      "image/png": {
       "height": 249,
       "width": 378
      },
      "needs_background": "light"
     },
     "output_type": "display_data"
    }
   ],
   "source": [
    "# 대여구분별 이용건수\n",
    "\n",
    "plt.bar(tmp0['대여구분'],tmp0['이용건수']/1000)\n",
    "plt.show()\n",
    "\n",
    "\n",
    "# 시각화\n",
    "\n"
   ]
  },
  {
   "cell_type": "code",
   "execution_count": null,
   "metadata": {},
   "outputs": [],
   "source": []
  },
  {
   "cell_type": "markdown",
   "metadata": {
    "id": "E99lxB1rfjDe"
   },
   "source": [
    "**2) 대여소별 이용 건수 TOP 10**\n",
    "\n",
    "- 대여소별 이용 건수 TOP 10을 막대 그래프로 시각화해 확인합니다."
   ]
  },
  {
   "cell_type": "code",
   "execution_count": 36,
   "metadata": {},
   "outputs": [
    {
     "name": "stdout",
     "output_type": "stream",
     "text": [
      "                           대여소    대여구분 성별  연령대  이용건수        운동량      탄소량  \\\n",
      "17904       502. 뚝섬유원지역 1번출구 앞  일일(회원)  X  20대  1617  227070.15  2115.66   \n",
      "90831        2715.마곡나루역 2번 출구       정기  X  20대  1566   58848.80   536.91   \n",
      "4894         207. 여의나루역 1번출구 앞  일일(회원)  X  20대  1562  251219.34  2376.18   \n",
      "73920            2102. 봉림교 교통섬      정기  X  20대  1427  153759.88  1376.01   \n",
      "17932       502. 뚝섬유원지역 1번출구 앞      정기  X  20대  1326  138754.97  1255.80   \n",
      "49444      1308. 안암로터리 버스정류장 앞      정기  X  20대  1230   68287.43   606.04   \n",
      "43062        1160. 양천향교역 7번출구앞      정기  X  20대  1201   56636.99   518.23   \n",
      "42770  1153. 발산역 1번, 9번 인근 대여소      정기  X  20대  1185   50909.32   462.87   \n",
      "45430  1210. 롯데월드타워(잠실역2번출구 쪽)      정기  X  20대  1133   66216.35   614.26   \n",
      "42699             1152. 마곡역교차로      정기  X  20대  1100   33891.65   310.87   \n",
      "\n",
      "              이동거리   이용시간  \n",
      "17904   9120082.48  75174  \n",
      "90831   2316108.42  19566  \n",
      "4894   10242192.30  87111  \n",
      "73920   5931408.70  40412  \n",
      "17932   5413160.62  40323  \n",
      "49444   2611625.46  21962  \n",
      "43062   2233821.73  17951  \n",
      "42770   1995014.87  17979  \n",
      "45430   2648012.98  24037  \n",
      "42699   1340978.53  12878  \n"
     ]
    }
   ],
   "source": [
    "tmp = bike.copy()\n",
    "tmp.sort_values(by='이용건수', ascending=False, inplace=True)\n",
    "tmp = tmp.head(10)\n",
    "print(tmp)"
   ]
  },
  {
   "cell_type": "code",
   "execution_count": 87,
   "metadata": {
    "id": "Ad2rrnhD36rZ",
    "scrolled": false
   },
   "outputs": [
    {
     "data": {
      "image/png": "[encoded data removed]",
      "text/plain": [
       "<Figure size 432x288 with 1 Axes>"
      ]
     },
     "metadata": {
      "image/png": {
       "height": 411,
       "width": 378
      },
      "needs_background": "light"
     },
     "output_type": "display_data"
    }
   ],
   "source": [
    "# 대여소별 이용건수 TOP 10\n",
    "\n",
    "plt.bar(tmp['대여소'],tmp['이용건수'])\n",
    "plt.xticks(rotation=90)\n",
    "plt.show()\n",
    "\n",
    "# 시각화\n",
    "\n",
    "\n",
    "\n"
   ]
  },
  {
   "cell_type": "markdown",
   "metadata": {
    "id": "3FAp2e7afjDf"
   },
   "source": [
    "**3) (옵션) 연령대별 이용 건수**\n",
    "\n",
    "- 연령대별 이용 건수를 막대 그래프로 시각화해 확인합니다."
   ]
  },
  {
   "cell_type": "code",
   "execution_count": 46,
   "metadata": {},
   "outputs": [
    {
     "name": "stdout",
     "output_type": "stream",
     "text": [
      "   연령대     이용건수\n",
      "0  10대   146596\n",
      "1  20대  1281462\n",
      "2  30대   747214\n",
      "3  40대   443284\n",
      "4  50대   269400\n",
      "5  60대    71005\n",
      "6  70대    10118\n",
      "7  80대   491152\n"
     ]
    }
   ],
   "source": [
    "tmp2 = bike.copy()\n",
    "tmp2 = tmp2.groupby('연령대',as_index=False)[['이용건수']].sum()\n",
    "print(tmp2)"
   ]
  },
  {
   "cell_type": "code",
   "execution_count": 108,
   "metadata": {
    "id": "cs202Jxt4qpB",
    "scrolled": true
   },
   "outputs": [
    {
     "data": {
      "image/png": "[encoded data removed]",
      "text/plain": [
       "<Figure size 432x288 with 1 Axes>"
      ]
     },
     "metadata": {
      "image/png": {
       "height": 260,
       "width": 369
      },
      "needs_background": "light"
     },
     "output_type": "display_data"
    }
   ],
   "source": [
    "# 연령대별 이용건수\n",
    "\n",
    "plt.bar(tmp2['연령대'],tmp2['이용건수'])\n",
    "plt.show()\n",
    "\n",
    "# 시각화\n",
    "\n",
    "\n"
   ]
  },
  {
   "cell_type": "markdown",
   "metadata": {
    "id": "7GdrzE9efjDf"
   },
   "source": [
    "**4) (옵션) 성별별 이용 건수**\n",
    "\n",
    "- 성별별 이용 건수를 막대 그래프로 시각화해 확인합니다."
   ]
  },
  {
   "cell_type": "code",
   "execution_count": 48,
   "metadata": {},
   "outputs": [
    {
     "name": "stdout",
     "output_type": "stream",
     "text": [
      "  성별     이용건수\n",
      "0  F   828996\n",
      "1  M  1200235\n",
      "2  X  1431000\n"
     ]
    }
   ],
   "source": [
    "tmp3 = bike.copy()\n",
    "tmp3 = tmp3.groupby('성별',as_index=False)[['이용건수']].sum()\n",
    "print(tmp3)"
   ]
  },
  {
   "cell_type": "code",
   "execution_count": 49,
   "metadata": {
    "id": "8Kof9B6C5Rgj",
    "scrolled": true
   },
   "outputs": [
    {
     "data": {
      "image/png": "[encoded data removed]",
      "text/plain": [
       "<Figure size 432x288 with 1 Axes>"
      ]
     },
     "metadata": {
      "image/png": {
       "height": 260,
       "width": 369
      },
      "needs_background": "light"
     },
     "output_type": "display_data"
    }
   ],
   "source": [
    "# 성별별 이용건수\n",
    "\n",
    "plt.bar(tmp3['성별'],tmp3['이용건수'])\n",
    "plt.show()\n",
    "# 시각화\n",
    "\n",
    "\n",
    "\n"
   ]
  },
  {
   "cell_type": "markdown",
   "metadata": {
    "id": "H-0DyQoWfjDf"
   },
   "source": [
    "## 5.정리\n",
    "\n",
    "- 분석을 통해 확인한 내용을 정리합니다."
   ]
  },
  {
   "cell_type": "markdown",
   "metadata": {
    "id": "G7iy7QwAfjDg"
   },
   "source": [
    "\n",
    "**1) 의견**"
   ]
  },
  {
   "cell_type": "markdown",
   "metadata": {
    "id": "cbadpHOsfjDg"
   },
   "source": [
    "-  의외로 어르신들이 자전거를 많이 타신다.\n",
    "-  정기권 이용자가 많다.\n",
    "-  \n",
    "-  \n",
    "-  "
   ]
  },
  {
   "cell_type": "markdown",
   "metadata": {
    "id": "h6Kq4gwgfjDg"
   },
   "source": [
    "**2) 기타**"
   ]
  },
  {
   "cell_type": "markdown",
   "metadata": {
    "id": "Xvf9pkaYfjDg"
   },
   "source": [
    "- 데이터를 많이 다루니까 슬슬 머리가 아파옵니다 ㅋㅋ\n",
    "- \n",
    "- \n",
    "- \n",
    "- "
   ]
  }
 ],
 "metadata": {
  "colab": {
   "collapsed_sections": [],
   "name": "X03 - [레벨업] 서울 공공 자전거 이용현황.ipynb",
   "provenance": []
  },
  "kernelspec": {
   "display_name": "Python 3 (ipykernel)",
   "language": "python",
   "name": "python3"
  },
  "language_info": {
   "codemirror_mode": {
    "name": "ipython",
    "version": 3
   },
   "file_extension": ".py",
   "mimetype": "text/x-python",
   "name": "python",
   "nbconvert_exporter": "python",
   "pygments_lexer": "ipython3",
   "version": "3.9.7"
  }
 },
 "nbformat": 4,
 "nbformat_minor": 1
}
