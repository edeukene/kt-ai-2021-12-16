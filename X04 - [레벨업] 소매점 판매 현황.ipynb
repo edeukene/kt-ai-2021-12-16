{
 "cells": [
  {
   "cell_type": "markdown",
   "metadata": {
    "id": "BFhIXgdYoYGp"
   },
   "source": [
    "<center><img src='https://raw.githubusercontent.com/Jangrae/img/master/title.png' width=500/></center>"
   ]
  },
  {
   "cell_type": "markdown",
   "metadata": {
    "id": "d6jVPeiR2MK_"
   },
   "source": [
    "<center><img src='https://raw.githubusercontent.com/Jangrae/img/master/practice3.png' width=300/></center>"
   ]
  },
  {
   "cell_type": "markdown",
   "metadata": {
    "id": "ZogNxmpZgBMp"
   },
   "source": [
    "# 소매점 판매 현황"
   ]
  },
  {
   "cell_type": "markdown",
   "metadata": {
    "id": "0IUReT56gBMq"
   },
   "source": [
    "<img src='https://raw.githubusercontent.com/Jangrae/img/master/retail.png' width=\"650\" align=\"left\">"
   ]
  },
  {
   "cell_type": "markdown",
   "metadata": {
    "id": "qb1iLyXwGlnw"
   },
   "source": [
    "## 1.환경 설정\n",
    "\n",
    "- 데이터 탐색과 전처리를 하기 전 라이브러리와 파일을 읽어옵니다.\n",
    "- 시각화에 한글이 포함된 경우 이에 대한 설정을 진행합니다."
   ]
  },
  {
   "cell_type": "markdown",
   "metadata": {
    "id": "4Xz2TqMRgBMr"
   },
   "source": [
    "**1) 한글 설정**\n",
    "\n",
    "- Jupyter Notebook 시각화에 한글이 표시되게 설정합니다."
   ]
  },
  {
   "cell_type": "code",
   "execution_count": 2,
   "metadata": {
    "id": "CjQJWPwmgBMr"
   },
   "outputs": [],
   "source": [
    "# 라이브러리 불러오기\n",
    "import matplotlib \n",
    "import matplotlib.pyplot as plt\n",
    "\n",
    "# 폰트설정\n",
    "# matplotlib.font_manager._rebuild()\n",
    "plt.rc('font', family='Malgun Gothic')\n",
    "plt.rcParams['axes.unicode_minus'] = False"
   ]
  },
  {
   "cell_type": "markdown",
   "metadata": {
    "id": "0uNXxebRGrd8"
   },
   "source": [
    "**2) 라이브러리 불러오기**\n",
    "\n",
    "- 사용할 라이브러리를 불러옵니다."
   ]
  },
  {
   "cell_type": "code",
   "execution_count": 311,
   "metadata": {
    "id": "zFm_DPTaUdqQ"
   },
   "outputs": [],
   "source": [
    "# 라이브러리 불러오기\n",
    "import numpy as np\n",
    "import pandas as pd\n",
    "import matplotlib.pyplot as plt\n",
    "\n",
    "%config InlineBackend.figure_format = 'retina'"
   ]
  },
  {
   "cell_type": "markdown",
   "metadata": {
    "id": "PcLUjkq0wxpF"
   },
   "source": [
    "**3) 데이터 읽어오기**\n",
    "\n",
    "- 다음 경로의 파일을 읽어와 customers, products, orders 데이터프레임을 만듭니다.\n",
    "- 파일 경로1: 'https://raw.githubusercontent.com/Jangrae/csv/master/customers.csv'    \n",
    "- 파일 경로2: 'https://raw.githubusercontent.com/Jangrae/csv/master/products.csv'\n",
    "- 파일 경로3: 'https://raw.githubusercontent.com/Jangrae/csv/master/orders.csv'\n",
    "- 단축 경로1: 'https://bit.ly/CustomersFile'    \n",
    "- 단축 경로2: 'https://bit.ly/ProductsFile'  \n",
    "- 단축 경로3: 'https://bit.ly/OrdersFile'  "
   ]
  },
  {
   "cell_type": "markdown",
   "metadata": {},
   "source": [
    "Customer  \n",
    "\n",
    "-CustomerID = 고객ID  \n",
    "\n",
    "-RegisterDate = 가입날짜  \n",
    "\n",
    "-Address = 주소  \n",
    "\n",
    "-Gender = 성별\n",
    "  \n",
    "  -BirthYear = 생년\n",
    "  \n",
    "  -Addr1 = 시도\n",
    "  \n",
    "  -Addr2 = 구군"
   ]
  },
  {
   "cell_type": "markdown",
   "metadata": {},
   "source": [
    "Orders  \n",
    "OrderID = 한 번에 n가지 주문  \n",
    "Seq = 주문순서  \n",
    "Amt = 가격  \n",
    "Qty = 주문 개수\n"
   ]
  },
  {
   "cell_type": "code",
   "execution_count": 312,
   "metadata": {
    "id": "91c9vKQ0E1A4"
   },
   "outputs": [],
   "source": [
    "\n",
    "path1 = 'https://bit.ly/CustomersFile'\n",
    "path2 = 'https://bit.ly/ProductsFile'\n",
    "path3 = 'https://bit.ly/OrdersFile'\n",
    "\n",
    "cus = pd.read_csv(path1)\n",
    "pro = pd.read_csv(path2)\n",
    "order = pd.read_csv(path3)"
   ]
  },
  {
   "cell_type": "code",
   "execution_count": 313,
   "metadata": {
    "id": "QSedynVWEp3W",
    "scrolled": false
   },
   "outputs": [
    {
     "name": "stdout",
     "output_type": "stream",
     "text": [
      "     CustomerID RegisterDate               Address Gender  BirthYear  Addr1  \\\n",
      "0       c017487   2002-07-31  경기 성남시 중원구 둔촌대로190번길      F       1968    경기도   \n",
      "1       c017503   2002-07-31         서울 마포구 새터산12길      F       1971  서울특별시   \n",
      "2       c017517   2002-07-31      경기도 남양주시 와부읍 덕소로      M       1967    경기도   \n",
      "3       c017522   2002-07-31           강원도 원주시 단구로      F       1965    강원도   \n",
      "4       c017526   2002-07-31  경기도 부천시 오정구 소사로730번길      F       1960    경기도   \n",
      "...         ...          ...                   ...    ...        ...    ...   \n",
      "2238    c400937   2017-03-12        인천광역시 계양구 주부토로      F       1980  인천광역시   \n",
      "2239    c401555   2017-03-20  경기도 남양주시 별내면 청학로68번길      F       1981    경기도   \n",
      "2240    c401584   2017-03-20       경기도 성남시 분당구 불정로      F       1979    경기도   \n",
      "2241    c402010   2017-03-25  경기도 성남시 분당구 판교원로82번길      F       1969    경기도   \n",
      "2242    c402634   2017-03-30       경기도 용인시 수지구 죽전로      F       1960    경기도   \n",
      "\n",
      "     Addr2  \n",
      "0      성남시  \n",
      "1      마포구  \n",
      "2     남양주시  \n",
      "3      원주시  \n",
      "4      부천시  \n",
      "...    ...  \n",
      "2238   계양구  \n",
      "2239  남양주시  \n",
      "2240   성남시  \n",
      "2241   성남시  \n",
      "2242   용인시  \n",
      "\n",
      "[2243 rows x 7 columns]\n",
      "==========\n",
      "   ProductID ProductName Category SubCategory  CategoryOrd\n",
      "0   p1001771          마늘       채소        뿌리채소            5\n",
      "1   p1002841        딸기_대       과일          과채            2\n",
      "2   p1005621        숙주나물      반찬류         나물류            1\n",
      "3   p1005771        두부_소      반찬류          두부            1\n",
      "4   p1005891        두부_대      반찬류          두부            1\n",
      "..       ...         ...      ...         ...          ...\n",
      "57  p1246581        초코우유      유제품          우유            4\n",
      "58  p1255281       딸기요거트      유제품         요거트            4\n",
      "59  p1256521       부침용두부      반찬류          두부            1\n",
      "60  p1284851       유기농우유      유제품          우유            4\n",
      "61  p1299491          당근       채소        뿌리채소            5\n",
      "\n",
      "[62 rows x 5 columns]\n",
      "==========\n",
      "       OrderID  Seq   OrderDate ProductID  Qty    Amt CustomerID\n",
      "0            1    1  2016-01-02  p1030071    2   7900    c107853\n",
      "1            2    1  2016-01-02  p1012761    1   1700    c110521\n",
      "2            2    2  2016-01-02  p1012581    1   1000    c110521\n",
      "3            2    3  2016-01-02  p1175481    1   1300    c110521\n",
      "4            2    4  2016-01-02  p1178011    1   8800    c110521\n",
      "...        ...  ...         ...       ...  ...    ...        ...\n",
      "68834       76    1  2017-03-31  p1201601    1   2100    c302834\n",
      "68835       77    1  2017-03-31  p1002841    1  10700    c343734\n",
      "68836       78    1  2017-03-31  p1012761    1   1900    c354639\n",
      "68837       79    1  2017-03-31  p1005891    1   1950    c394131\n",
      "68838       79    2  2017-03-31  p1179241    1   2200    c394131\n",
      "\n",
      "[68839 rows x 7 columns]\n"
     ]
    }
   ],
   "source": [
    "\n",
    "print(cus)\n",
    "print('='*10)\n",
    "print(pro)\n",
    "print('='*10)\n",
    "print(order)\n"
   ]
  },
  {
   "cell_type": "code",
   "execution_count": null,
   "metadata": {
    "id": "OPfgGedaEqnw"
   },
   "outputs": [],
   "source": [
    "\n",
    "\n"
   ]
  },
  {
   "cell_type": "markdown",
   "metadata": {
    "id": "H4KWZGI8HBIA"
   },
   "source": [
    "## 2.데이터 탐색\n",
    "\n",
    "다음과 같은 정보 확인을 통해 처리할 대상 데이터를 이해합니다.\n",
    "- 상/하위 데이터 확인\n",
    "- 데이터프레임 크기 확인\n",
    "- 열 이름, 데이터 형식, 값 개수 등 확인\n",
    "- 기초 통계정보 확인\n",
    "- 결측치 확인\n",
    "- 범주형 데이터 확인\n",
    "- 개별 열 값 상세 확인 등"
   ]
  },
  {
   "cell_type": "markdown",
   "metadata": {
    "id": "X7I-KgAjJ60t"
   },
   "source": [
    "**1) 고객 정보(customers) 4개 이상**\n",
    "\n",
    "- customers 데이터프레임을 충분히 탐색합니다.\n",
    "- 간단한 집계를 수행해 보는 것도 좋은 방법입니다."
   ]
  },
  {
   "cell_type": "code",
   "execution_count": 314,
   "metadata": {
    "id": "SBDudJlmHDOi"
   },
   "outputs": [
    {
     "name": "stdout",
     "output_type": "stream",
     "text": [
      "  CustomerID RegisterDate               Address Gender  BirthYear  Addr1 Addr2\n",
      "0    c017487   2002-07-31  경기 성남시 중원구 둔촌대로190번길      F       1968    경기도   성남시\n",
      "1    c017503   2002-07-31         서울 마포구 새터산12길      F       1971  서울특별시   마포구\n",
      "2    c017517   2002-07-31      경기도 남양주시 와부읍 덕소로      M       1967    경기도  남양주시\n",
      "3    c017522   2002-07-31           강원도 원주시 단구로      F       1965    강원도   원주시\n",
      "4    c017526   2002-07-31  경기도 부천시 오정구 소사로730번길      F       1960    경기도   부천시\n",
      "5    c017531   2002-07-31      인천광역시 서구 완정로64번길      F       1970  인천광역시    서구\n",
      "6    c017538   2002-07-31           경기도 과천시 관문로      F       1964    경기도   과천시\n",
      "7    c017544   2002-07-31      경기도 고양시 일산동구 고풍로      M       1965    경기도   고양시\n",
      "8    c017546   2002-07-31       경기도 부천시 원미구 중동로      F       1966    경기도   부천시\n",
      "9    c017551   2002-07-31          경기도 안성시 현수2길      F       1962    경기도   안성시\n",
      "====================================================================================================\n",
      "     CustomerID RegisterDate               Address Gender  BirthYear  Addr1  \\\n",
      "2233    c400312   2017-03-03             인천 동구 송미로      F       1975  인천광역시   \n",
      "2234    c400470   2017-03-06       경기도 용인시 수지구 수풍로      F       1979    경기도   \n",
      "2235    c400665   2017-03-08         인천광역시 계양구 장제로      F       1964  인천광역시   \n",
      "2236    c400706   2017-03-09            서울 마포구 백범로      F       1981  서울특별시   \n",
      "2237    c400735   2017-03-09      경기도 남양주시 와부읍 덕소로      F       1970    경기도   \n",
      "2238    c400937   2017-03-12        인천광역시 계양구 주부토로      F       1980  인천광역시   \n",
      "2239    c401555   2017-03-20  경기도 남양주시 별내면 청학로68번길      F       1981    경기도   \n",
      "2240    c401584   2017-03-20       경기도 성남시 분당구 불정로      F       1979    경기도   \n",
      "2241    c402010   2017-03-25  경기도 성남시 분당구 판교원로82번길      F       1969    경기도   \n",
      "2242    c402634   2017-03-30       경기도 용인시 수지구 죽전로      F       1960    경기도   \n",
      "\n",
      "     Addr2  \n",
      "2233    동구  \n",
      "2234   용인시  \n",
      "2235   계양구  \n",
      "2236   마포구  \n",
      "2237  남양주시  \n",
      "2238   계양구  \n",
      "2239  남양주시  \n",
      "2240   성남시  \n",
      "2241   성남시  \n",
      "2242   용인시  \n"
     ]
    }
   ],
   "source": [
    "# 상, 하위 데이터 확인\n",
    "\n",
    "print(cus.head(10))\n",
    "print('='*100)\n",
    "print(cus.tail(10))\n",
    "\n"
   ]
  },
  {
   "cell_type": "code",
   "execution_count": null,
   "metadata": {},
   "outputs": [],
   "source": []
  },
  {
   "cell_type": "code",
   "execution_count": 315,
   "metadata": {},
   "outputs": [
    {
     "name": "stdout",
     "output_type": "stream",
     "text": [
      "  CustomerID Gender  BirthYear  Addr1 Addr2\n",
      "0    c017487      F       1968    경기도   성남시\n",
      "1    c017503      F       1971  서울특별시   마포구\n",
      "2    c017517      M       1967    경기도  남양주시\n",
      "3    c017522      F       1965    강원도   원주시\n",
      "4    c017526      F       1960    경기도   부천시\n",
      "5    c017531      F       1970  인천광역시    서구\n",
      "6    c017538      F       1964    경기도   과천시\n",
      "7    c017544      M       1965    경기도   고양시\n",
      "8    c017546      F       1966    경기도   부천시\n",
      "9    c017551      F       1962    경기도   안성시\n",
      "     CustomerID Gender  BirthYear  Addr1 Addr2\n",
      "2233    c400312      F       1975  인천광역시    동구\n",
      "2234    c400470      F       1979    경기도   용인시\n",
      "2235    c400665      F       1964  인천광역시   계양구\n",
      "2236    c400706      F       1981  서울특별시   마포구\n",
      "2237    c400735      F       1970    경기도  남양주시\n",
      "2238    c400937      F       1980  인천광역시   계양구\n",
      "2239    c401555      F       1981    경기도  남양주시\n",
      "2240    c401584      F       1979    경기도   성남시\n",
      "2241    c402010      F       1969    경기도   성남시\n",
      "2242    c402634      F       1960    경기도   용인시\n"
     ]
    }
   ],
   "source": [
    "# 필요 없는 열 삭제\n",
    "\n",
    "cus.drop(['RegisterDate','Address'], axis=1,inplace=True)\n",
    "print(cus.head(10))\n",
    "print(cus.tail(10))"
   ]
  },
  {
   "cell_type": "code",
   "execution_count": 316,
   "metadata": {},
   "outputs": [
    {
     "name": "stdout",
     "output_type": "stream",
     "text": [
      "(2243, 5)\n",
      "==================================================\n",
      "<class 'pandas.core.frame.DataFrame'>\n",
      "RangeIndex: 2243 entries, 0 to 2242\n",
      "Data columns (total 5 columns):\n",
      " #   Column      Non-Null Count  Dtype \n",
      "---  ------      --------------  ----- \n",
      " 0   CustomerID  2243 non-null   object\n",
      " 1   Gender      2243 non-null   object\n",
      " 2   BirthYear   2243 non-null   int64 \n",
      " 3   Addr1       2243 non-null   object\n",
      " 4   Addr2       2243 non-null   object\n",
      "dtypes: int64(1), object(4)\n",
      "memory usage: 87.7+ KB\n",
      "None\n"
     ]
    }
   ],
   "source": [
    "# 데이터프레임 크기 확인\n",
    "print(cus.shape)\n",
    "print('='*50)\n",
    "# 열 이름, 데이터 형식, 값 개수 등\n",
    "print(cus.info())"
   ]
  },
  {
   "cell_type": "code",
   "execution_count": 317,
   "metadata": {},
   "outputs": [
    {
     "name": "stdout",
     "output_type": "stream",
     "text": [
      "         BirthYear\n",
      "count  2243.000000\n",
      "mean   1971.107445\n",
      "std       9.658465\n",
      "min    1932.000000\n",
      "25%    1966.000000\n",
      "50%    1972.000000\n",
      "75%    1978.000000\n",
      "max    1999.000000\n",
      "==================================================\n",
      "CustomerID    0\n",
      "Gender        0\n",
      "BirthYear     0\n",
      "Addr1         0\n",
      "Addr2         0\n",
      "dtype: int64\n"
     ]
    }
   ],
   "source": [
    "# 기초 정보 통계 확인\n",
    "print(cus.describe())\n",
    "print('='*50)\n",
    "# 결측치 확인\n",
    "print(cus.isna().sum())"
   ]
  },
  {
   "cell_type": "code",
   "execution_count": 318,
   "metadata": {
    "id": "x9_8MKEwtWFZ"
   },
   "outputs": [
    {
     "name": "stdout",
     "output_type": "stream",
     "text": [
      "  Gender  CustomerID\n",
      "0      F        2060\n",
      "1      M         183\n"
     ]
    }
   ],
   "source": [
    "\n",
    "# 범주형 데이터\n",
    "tmp = cus.groupby(['Gender'],as_index=False)['CustomerID'].count()\n",
    "print(tmp)\n"
   ]
  },
  {
   "cell_type": "code",
   "execution_count": 319,
   "metadata": {
    "id": "3BTuZtbRs4HO"
   },
   "outputs": [
    {
     "name": "stdout",
     "output_type": "stream",
     "text": [
      "RangeIndex(start=0, stop=2243, step=1)\n",
      "CustomerID    object\n",
      "Gender        object\n",
      "BirthYear      int64\n",
      "Addr1         object\n",
      "Addr2         object\n",
      "dtype: object\n",
      "[['c017487' 'F' 1968 '경기도' '성남시']\n",
      " ['c017503' 'F' 1971 '서울특별시' '마포구']\n",
      " ['c017517' 'M' 1967 '경기도' '남양주시']\n",
      " ...\n",
      " ['c401584' 'F' 1979 '경기도' '성남시']\n",
      " ['c402010' 'F' 1969 '경기도' '성남시']\n",
      " ['c402634' 'F' 1960 '경기도' '용인시']]\n",
      "Index(['CustomerID', 'Gender', 'BirthYear', 'Addr1', 'Addr2'], dtype='object')\n"
     ]
    }
   ],
   "source": [
    "# 인덱스 확인\n",
    "print(cus.index)\n",
    "\n",
    "# 열 확인\n",
    "print(cus.dtypes)\n",
    "\n",
    "# 값 확인\n",
    "print(cus.values)\n",
    "\n",
    "# 열 정보 확인\n",
    "print(cus.columns)"
   ]
  },
  {
   "cell_type": "code",
   "execution_count": null,
   "metadata": {
    "id": "PUYIHVzYGNvy"
   },
   "outputs": [],
   "source": [
    "\n",
    "\n"
   ]
  },
  {
   "cell_type": "markdown",
   "metadata": {
    "id": "ktmISAkXgBM0"
   },
   "source": [
    "**2) 상품 정보(products) 4개 이상**\n",
    "\n",
    "- products 데이터프레임을 충분히 탐색합니다.\n",
    "- 간단한 집계를 수행해 보는 것도 좋은 방법입니다."
   ]
  },
  {
   "cell_type": "code",
   "execution_count": 320,
   "metadata": {
    "id": "xmhzfhVlgBM0",
    "scrolled": true
   },
   "outputs": [
    {
     "name": "stdout",
     "output_type": "stream",
     "text": [
      "   ProductID ProductName Category SubCategory  CategoryOrd\n",
      "0   p1001771          마늘       채소        뿌리채소            5\n",
      "1   p1002841        딸기_대       과일          과채            2\n",
      "2   p1005621        숙주나물      반찬류         나물류            1\n",
      "3   p1005771        두부_소      반찬류          두부            1\n",
      "4   p1005891        두부_대      반찬류          두부            1\n",
      "5   p1006281        소보루빵       간식           빵            3\n",
      "6   p1006411        통단팥빵       간식           빵            3\n",
      "7   p1011291        낱개캔디       간식         사탕류            3\n",
      "8   p1012581          깻잎       채소         잎채소            5\n",
      "9   p1012641          상추       채소         잎채소            5\n",
      "10  p1012751           파       채소         잎채소            5\n",
      "11  p1012761         쌈모음       채소         잎채소            5\n",
      "12  p1012811         시금치       채소         잎채소            5\n",
      "13  p1012881          부추       채소         잎채소            5\n",
      "14  p1012951         애호박       채소        열매채소            5\n",
      "15  p1013161       느타리버섯       채소          버섯            5\n",
      "16  p1013251          당근       채소        뿌리채소            5\n",
      "17  p1026741          유부      반찬류          두부            1\n",
      "18  p1030071         토마토       과일          과채            2\n",
      "19  p1036481         순두부      반찬류          두부            1\n",
      "====================================================================================================\n",
      "   ProductID ProductName Category SubCategory  CategoryOrd\n",
      "52  p1231011     초코아이스크림      유제품       아이스크림            4\n",
      "53  p1233511          피망       채소        뿌리채소            5\n",
      "54  p1234751         초코콘      유제품       아이스크림            4\n",
      "55  p1235451          콘칩       간식          과자            3\n",
      "56  p1237811        사과_대       과일          과수            2\n",
      "57  p1246581        초코우유      유제품          우유            4\n",
      "58  p1255281       딸기요거트      유제품         요거트            4\n",
      "59  p1256521       부침용두부      반찬류          두부            1\n",
      "60  p1284851       유기농우유      유제품          우유            4\n",
      "61  p1299491          당근       채소        뿌리채소            5\n"
     ]
    }
   ],
   "source": [
    "print(pro.head(20))\n",
    "print('='*100)\n",
    "print(pro.tail(10))\n",
    "\n"
   ]
  },
  {
   "cell_type": "code",
   "execution_count": 321,
   "metadata": {},
   "outputs": [
    {
     "name": "stdout",
     "output_type": "stream",
     "text": [
      "   ProductID ProductName Category\n",
      "0   p1001771          마늘       채소\n",
      "1   p1002841        딸기_대       과일\n",
      "2   p1005621        숙주나물      반찬류\n",
      "3   p1005771        두부_소      반찬류\n",
      "4   p1005891        두부_대      반찬류\n",
      "..       ...         ...      ...\n",
      "57  p1246581        초코우유      유제품\n",
      "58  p1255281       딸기요거트      유제품\n",
      "59  p1256521       부침용두부      반찬류\n",
      "60  p1284851       유기농우유      유제품\n",
      "61  p1299491          당근       채소\n",
      "\n",
      "[62 rows x 3 columns]\n"
     ]
    }
   ],
   "source": [
    "# 필요없는 열 삭제\n",
    "pro.drop(['SubCategory','CategoryOrd'],axis=1,inplace=True)\n",
    "print(pro)"
   ]
  },
  {
   "cell_type": "code",
   "execution_count": 322,
   "metadata": {
    "id": "C_IRCYhStTmn"
   },
   "outputs": [
    {
     "name": "stdout",
     "output_type": "stream",
     "text": [
      "(62, 3)\n",
      "==================================================\n",
      "<class 'pandas.core.frame.DataFrame'>\n",
      "RangeIndex: 62 entries, 0 to 61\n",
      "Data columns (total 3 columns):\n",
      " #   Column       Non-Null Count  Dtype \n",
      "---  ------       --------------  ----- \n",
      " 0   ProductID    62 non-null     object\n",
      " 1   ProductName  62 non-null     object\n",
      " 2   Category     62 non-null     object\n",
      "dtypes: object(3)\n",
      "memory usage: 1.6+ KB\n",
      "None\n"
     ]
    }
   ],
   "source": [
    "# 데이터프레임 크기 확인\n",
    "print(pro.shape)\n",
    "print('='*50)\n",
    "# 열 이름, 데이터 형식, 값 개수 등\n",
    "print(pro.info())"
   ]
  },
  {
   "cell_type": "code",
   "execution_count": 323,
   "metadata": {
    "id": "2UORrtJftFR2"
   },
   "outputs": [
    {
     "name": "stdout",
     "output_type": "stream",
     "text": [
      "       ProductID ProductName Category\n",
      "count         62          62       62\n",
      "unique        62          59        5\n",
      "top     p1001771          당근       채소\n",
      "freq           1           3       23\n",
      "==================================================\n",
      "ProductID      0\n",
      "ProductName    0\n",
      "Category       0\n",
      "dtype: int64\n"
     ]
    }
   ],
   "source": [
    "# 기초 정보 통계 확인\n",
    "print(pro.describe())\n",
    "print('='*50)\n",
    "# 결측치 확인\n",
    "print(pro.isna().sum())\n",
    "\n"
   ]
  },
  {
   "cell_type": "code",
   "execution_count": 612,
   "metadata": {
    "id": "tNMknvcbgBM0"
   },
   "outputs": [
    {
     "name": "stdout",
     "output_type": "stream",
     "text": [
      "   ProductID ProductName\n",
      "0   p1001771          마늘\n",
      "1   p1002841        딸기_대\n",
      "2   p1005621        숙주나물\n",
      "3   p1005771        두부_소\n",
      "4   p1005891        두부_대\n",
      "..       ...         ...\n",
      "57  p1246581        초코우유\n",
      "58  p1255281       딸기요거트\n",
      "59  p1256521       부침용두부\n",
      "60  p1284851       유기농우유\n",
      "61  p1299491          당근\n",
      "\n",
      "[62 rows x 2 columns]\n"
     ]
    }
   ],
   "source": [
    "# # 범주형 데이터\n",
    "tmp1 = pro.groupby(['ProductID'],as_index=False)['ProductName'].sum()\n",
    "print(tmp1)\n"
   ]
  },
  {
   "cell_type": "code",
   "execution_count": 325,
   "metadata": {
    "id": "NhIVId_ngBM0"
   },
   "outputs": [
    {
     "name": "stdout",
     "output_type": "stream",
     "text": [
      "RangeIndex(start=0, stop=62, step=1)\n",
      "ProductID      object\n",
      "ProductName    object\n",
      "Category       object\n",
      "dtype: object\n",
      "[['p1001771' '마늘' '채소']\n",
      " ['p1002841' '딸기_대' '과일']\n",
      " ['p1005621' '숙주나물' '반찬류']\n",
      " ['p1005771' '두부_소' '반찬류']\n",
      " ['p1005891' '두부_대' '반찬류']\n",
      " ['p1006281' '소보루빵' '간식']\n",
      " ['p1006411' '통단팥빵' '간식']\n",
      " ['p1011291' '낱개캔디' '간식']\n",
      " ['p1012581' '깻잎' '채소']\n",
      " ['p1012641' '상추' '채소']\n",
      " ['p1012751' '파' '채소']\n",
      " ['p1012761' '쌈모음' '채소']\n",
      " ['p1012811' '시금치' '채소']\n",
      " ['p1012881' '부추' '채소']\n",
      " ['p1012951' '애호박' '채소']\n",
      " ['p1013161' '느타리버섯' '채소']\n",
      " ['p1013251' '당근' '채소']\n",
      " ['p1026741' '유부' '반찬류']\n",
      " ['p1030071' '토마토' '과일']\n",
      " ['p1036481' '순두부' '반찬류']\n",
      " ['p1052661' '새우깡' '간식']\n",
      " ['p1054261' '고구마스틱' '간식']\n",
      " ['p1072601' '우유1000' '유제품']\n",
      " ['p1089531' '감자칩' '채소']\n",
      " ['p1097591' '팽이버섯' '채소']\n",
      " ['p1097821' '짱구' '간식']\n",
      " ['p1097831' '감자칩' '간식']\n",
      " ['p1100371' '연두부' '반찬류']\n",
      " ['p1119071' '뿌셔뿌셔' '간식']\n",
      " ['p1127201' '플레인요거트' '유제품']\n",
      " ['p1133371' '우유200' '유제품']\n",
      " ['p1139681' '감귤컵푸딩' '간식']\n",
      " ['p1139701' '포도컵푸딩' '간식']\n",
      " ['p1144371' '청오이' '채소']\n",
      " ['p1144661' '양배출' '채소']\n",
      " ['p1149381' '팥아이스크림' '유제품']\n",
      " ['p1149391' '배아이스크림' '유제품']\n",
      " ['p1149401' '사과아이스크림' '유제품']\n",
      " ['p1149411' '딸기아이스크림' '유제품']\n",
      " ['p1152861' '포토아이스크림' '유제품']\n",
      " ['p1159481' '무' '채소']\n",
      " ['p1162631' '저지방우유' '유제품']\n",
      " ['p1175481' '콩나물' '반찬류']\n",
      " ['p1178011' '사과_소' '과일']\n",
      " ['p1179241' '열무' '채소']\n",
      " ['p1191881' '당근' '채소']\n",
      " ['p1194801' '딸기_소' '과일']\n",
      " ['p1200641' '참외' '과일']\n",
      " ['p1201601' '양파' '채소']\n",
      " ['p1207281' '브로컬리' '채소']\n",
      " ['p1207951' '백오이' '채소']\n",
      " ['p1211951' '무농약시금치' '채소']\n",
      " ['p1231011' '초코아이스크림' '유제품']\n",
      " ['p1233511' '피망' '채소']\n",
      " ['p1234751' '초코콘' '유제품']\n",
      " ['p1235451' '콘칩' '간식']\n",
      " ['p1237811' '사과_대' '과일']\n",
      " ['p1246581' '초코우유' '유제품']\n",
      " ['p1255281' '딸기요거트' '유제품']\n",
      " ['p1256521' '부침용두부' '반찬류']\n",
      " ['p1284851' '유기농우유' '유제품']\n",
      " ['p1299491' '당근' '채소']]\n",
      "Index(['ProductID', 'ProductName', 'Category'], dtype='object')\n"
     ]
    }
   ],
   "source": [
    "# 인덱스 확인\n",
    "print(pro.index)\n",
    "\n",
    "# 열 확인\n",
    "print(pro.dtypes)\n",
    "\n",
    "# 값 확인\n",
    "print(pro.values)\n",
    "\n",
    "# 열 정보 확인\n",
    "print(pro.columns)"
   ]
  },
  {
   "cell_type": "code",
   "execution_count": 615,
   "metadata": {
    "id": "HFmk-QPmGNVW"
   },
   "outputs": [
    {
     "name": "stdout",
     "output_type": "stream",
     "text": [
      "CustomerID  Gender  BirthYear  Addr1  Addr2\n",
      "c017487     F       1968       경기도    성남시      1\n",
      "c306719     F       1969       서울특별시  은평구      1\n",
      "c305895     F       1979       경기도    의왕시      1\n",
      "c305921     F       1977       서울특별시  강서구      1\n",
      "c306199     F       1977       경기도    고양시      1\n",
      "                                              ..\n",
      "c149838     F       1970       경기도    의왕시      1\n",
      "c149615     F       1979       서울특별시  종로구      1\n",
      "c149399     F       1973       경기도    안성시      1\n",
      "c148979     F       1955       경기도    김포시      1\n",
      "c402634     F       1960       경기도    용인시      1\n",
      "Length: 2243, dtype: int64\n"
     ]
    }
   ],
   "source": [
    "\n",
    "print(cus.value_counts())\n"
   ]
  },
  {
   "cell_type": "markdown",
   "metadata": {
    "id": "Ek_BgBX7gBM1"
   },
   "source": [
    "**3) 주문 정보(orders) 4개 이상**\n",
    "\n",
    "- orders 데이터프레임을 충분히 탐색합니다.\n",
    "- 간단한 집계를 수행해 보는 것도 좋은 방법입니다."
   ]
  },
  {
   "cell_type": "code",
   "execution_count": 326,
   "metadata": {
    "id": "6550xr-LgBM1"
   },
   "outputs": [
    {
     "name": "stdout",
     "output_type": "stream",
     "text": [
      "   OrderID  Seq   OrderDate ProductID  Qty   Amt CustomerID\n",
      "0        1    1  2016-01-02  p1030071    2  7900    c107853\n",
      "1        2    1  2016-01-02  p1012761    1  1700    c110521\n",
      "2        2    2  2016-01-02  p1012581    1  1000    c110521\n",
      "3        2    3  2016-01-02  p1175481    1  1300    c110521\n",
      "4        2    4  2016-01-02  p1178011    1  8800    c110521\n",
      "5        3    1  2016-01-02  p1012751    2  2700    c143548\n",
      "6        4    1  2016-01-02  p1097821    1  1000    c256672\n",
      "7        4    2  2016-01-02  p1178011    1  8800    c256672\n",
      "8        5    1  2016-01-02  p1178011    1  8800    c260294\n",
      "9        5    2  2016-01-02  p1194801    1  8200    c260294\n",
      "====================================================================================================\n",
      "       OrderID  Seq   OrderDate ProductID  Qty    Amt CustomerID\n",
      "68829       74    2  2017-03-31  p1175481    1   1300    c221180\n",
      "68830       74    3  2017-03-31  p1201601    1   2100    c221180\n",
      "68831       75    1  2017-03-31  p1097821    1   1000    c255098\n",
      "68832       75    2  2017-03-31  p1119071    1   1091    c255098\n",
      "68833       75    3  2017-03-31  p1201601    1   2100    c255098\n",
      "68834       76    1  2017-03-31  p1201601    1   2100    c302834\n",
      "68835       77    1  2017-03-31  p1002841    1  10700    c343734\n",
      "68836       78    1  2017-03-31  p1012761    1   1900    c354639\n",
      "68837       79    1  2017-03-31  p1005891    1   1950    c394131\n",
      "68838       79    2  2017-03-31  p1179241    1   2200    c394131\n"
     ]
    }
   ],
   "source": [
    "print(order.head(10))\n",
    "print('='*100)\n",
    "print(order.tail(10))\n",
    "\n"
   ]
  },
  {
   "cell_type": "code",
   "execution_count": 327,
   "metadata": {
    "id": "Az3Ms14YgBM1"
   },
   "outputs": [
    {
     "name": "stdout",
     "output_type": "stream",
     "text": [
      "(68839, 7)\n",
      "==================================================\n",
      "<class 'pandas.core.frame.DataFrame'>\n",
      "RangeIndex: 68839 entries, 0 to 68838\n",
      "Data columns (total 7 columns):\n",
      " #   Column      Non-Null Count  Dtype \n",
      "---  ------      --------------  ----- \n",
      " 0   OrderID     68839 non-null  int64 \n",
      " 1   Seq         68839 non-null  int64 \n",
      " 2   OrderDate   68839 non-null  object\n",
      " 3   ProductID   68839 non-null  object\n",
      " 4   Qty         68839 non-null  int64 \n",
      " 5   Amt         68839 non-null  int64 \n",
      " 6   CustomerID  68839 non-null  object\n",
      "dtypes: int64(4), object(3)\n",
      "memory usage: 3.7+ MB\n",
      "None\n"
     ]
    }
   ],
   "source": [
    "\n",
    "# 데이터프레임 크기 확인\n",
    "print(order.shape)\n",
    "print('='*50)\n",
    "# 열 이름, 데이터 형식, 값 개수 등\n",
    "print(order.info())\n"
   ]
  },
  {
   "cell_type": "code",
   "execution_count": 328,
   "metadata": {
    "id": "jaTP8tS2tJOT"
   },
   "outputs": [
    {
     "name": "stdout",
     "output_type": "stream",
     "text": [
      "            OrderID           Seq           Qty            Amt\n",
      "count  68839.000000  68839.000000  68839.000000   68839.000000\n",
      "mean      38.551519      2.082628      1.266985    2847.057990\n",
      "std       23.952370      1.469644      1.372289    2634.378327\n",
      "min        1.000000      1.000000      1.000000     250.000000\n",
      "25%       18.000000      1.000000      1.000000    1300.000000\n",
      "50%       37.000000      2.000000      1.000000    1950.000000\n",
      "75%       56.000000      3.000000      1.000000    3227.000000\n",
      "max      122.000000     15.000000    200.000000  109100.000000\n",
      "==================================================\n",
      "OrderID       0\n",
      "Seq           0\n",
      "OrderDate     0\n",
      "ProductID     0\n",
      "Qty           0\n",
      "Amt           0\n",
      "CustomerID    0\n",
      "dtype: int64\n"
     ]
    }
   ],
   "source": [
    "\n",
    "\n",
    "# 기초 정보 통계 확인\n",
    "print(order.describe())\n",
    "print('='*50)\n",
    "# 결측치 확인\n",
    "print(order.isna().sum())\n"
   ]
  },
  {
   "cell_type": "code",
   "execution_count": 329,
   "metadata": {
    "id": "Gb4qRTALgBM2"
   },
   "outputs": [
    {
     "name": "stdout",
     "output_type": "stream",
     "text": [
      "   ProductID   Qty\n",
      "0   p1001771   977\n",
      "1   p1002841   844\n",
      "2   p1005621   826\n",
      "3   p1005771  3378\n",
      "4   p1005891  3937\n",
      "..       ...   ...\n",
      "57  p1246581  1054\n",
      "58  p1255281   537\n",
      "59  p1256521   580\n",
      "60  p1284851  2017\n",
      "61  p1299491   495\n",
      "\n",
      "[62 rows x 2 columns]\n"
     ]
    }
   ],
   "source": [
    "\n",
    "# 범주형 데이터\n",
    "tmp2 = order.groupby(['ProductID'],as_index=False)['Qty'].count()\n",
    "print(tmp2)\n"
   ]
  },
  {
   "cell_type": "code",
   "execution_count": 330,
   "metadata": {
    "id": "9HLuVi0UgBM2"
   },
   "outputs": [
    {
     "name": "stdout",
     "output_type": "stream",
     "text": [
      "RangeIndex(start=0, stop=68839, step=1)\n",
      "OrderID        int64\n",
      "Seq            int64\n",
      "OrderDate     object\n",
      "ProductID     object\n",
      "Qty            int64\n",
      "Amt            int64\n",
      "CustomerID    object\n",
      "dtype: object\n",
      "[[1 1 '2016-01-02' ... 2 7900 'c107853']\n",
      " [2 1 '2016-01-02' ... 1 1700 'c110521']\n",
      " [2 2 '2016-01-02' ... 1 1000 'c110521']\n",
      " ...\n",
      " [78 1 '2017-03-31' ... 1 1900 'c354639']\n",
      " [79 1 '2017-03-31' ... 1 1950 'c394131']\n",
      " [79 2 '2017-03-31' ... 1 2200 'c394131']]\n",
      "Index(['OrderID', 'Seq', 'OrderDate', 'ProductID', 'Qty', 'Amt', 'CustomerID'], dtype='object')\n"
     ]
    }
   ],
   "source": [
    "# 인덱스 확인\n",
    "print(order.index)\n",
    "\n",
    "# 열 확인\n",
    "print(order.dtypes)\n",
    "\n",
    "# 값 확인\n",
    "print(order.values)\n",
    "\n",
    "# 열 정보 확인\n",
    "print(order.columns)"
   ]
  },
  {
   "cell_type": "code",
   "execution_count": 616,
   "metadata": {
    "id": "-FqyrV5RGMw5"
   },
   "outputs": [
    {
     "name": "stdout",
     "output_type": "stream",
     "text": [
      "ProductID  ProductName  Category\n",
      "p1001771   마늘           채소          1\n",
      "p1194801   딸기_소         과일          1\n",
      "p1144371   청오이          채소          1\n",
      "p1144661   양배출          채소          1\n",
      "p1149381   팥아이스크림       유제품         1\n",
      "                                   ..\n",
      "p1097821   짱구           간식          1\n",
      "p1097831   감자칩          간식          1\n",
      "p1100371   연두부          반찬류         1\n",
      "p1119071   뿌셔뿌셔         간식          1\n",
      "p1299491   당근           채소          1\n",
      "Length: 62, dtype: int64\n"
     ]
    }
   ],
   "source": [
    "\n",
    "\n",
    "print(pro.value_counts())\n",
    "\n"
   ]
  },
  {
   "cell_type": "markdown",
   "metadata": {
    "id": "Ssb_UpOagBM2"
   },
   "source": [
    "## 3.데이터 전처리\n",
    "\n",
    "전처리 과정에서 다음과 같은 처리를 할 수 있습니다.\n",
    "\n",
    "- 결측치 처리\n",
    "- 값 변경\n",
    "- 열 추가\n",
    "- 불필요한 열 제거\n",
    "- 열 이름 변경\n",
    "- 데이터 통합(연결 또는 조인)\n",
    "- 가변수화 등"
   ]
  },
  {
   "cell_type": "markdown",
   "metadata": {
    "id": "XDI0-X06gBM3"
   },
   "source": [
    "**1) 데이터 통합 --> sales 데이터 프레임**\n",
    "\n",
    "- 각 데이터프레임의 모든 열을 통합 할 것이 아니면 \n",
    "    - 필요한 열만 추출해 별도 데이터프레임을 선언한 후 통합하거나\n",
    "    - 또는 모두 통합 후 불필요한 열을 제거하는 방법을 사용합니다."
   ]
  },
  {
   "cell_type": "code",
   "execution_count": 331,
   "metadata": {
    "id": "NW7N_xeVgBM4"
   },
   "outputs": [
    {
     "name": "stdout",
     "output_type": "stream",
     "text": [
      "      CustomerID Gender  BirthYear  Addr1 Addr2  OrderID  Seq   OrderDate  \\\n",
      "0        c017487      F       1968    경기도   성남시       46    1  2016-01-14   \n",
      "1        c017487      F       1968    경기도   성남시       37    2  2016-09-18   \n",
      "2        c017517      M       1967    경기도  남양주시       31    2  2016-01-23   \n",
      "3        c017517      M       1967    경기도  남양주시       19    3  2016-07-24   \n",
      "4        c017517      M       1967    경기도  남양주시       78    2  2017-01-02   \n",
      "...          ...    ...        ...    ...   ...      ...  ...         ...   \n",
      "68834    c366986      F       1973  서울특별시   마포구       66    2  2016-05-28   \n",
      "68835    c366986      F       1973  서울특별시   마포구       23    3  2016-08-08   \n",
      "68836    c367093      F       1985  서울특별시  영등포구        5    4  2016-03-19   \n",
      "68837    c372461      F       1986    경기도   부천시       71    2  2016-08-10   \n",
      "68838    c376203      F       1978    경기도   시흥시       28    1  2016-05-25   \n",
      "\n",
      "      ProductID  Qty   Amt ProductName Category  \n",
      "0      p1013161    1  2900       느타리버섯       채소  \n",
      "1      p1013161    2  5900       느타리버섯       채소  \n",
      "2      p1013161    1  2900       느타리버섯       채소  \n",
      "3      p1013161    1  2950       느타리버섯       채소  \n",
      "4      p1013161    1  2950       느타리버섯       채소  \n",
      "...         ...  ...   ...         ...      ...  \n",
      "68834  p1152861    1  1091     포토아이스크림      유제품  \n",
      "68835  p1152861    1  1091     포토아이스크림      유제품  \n",
      "68836  p1152861    1  1091     포토아이스크림      유제품  \n",
      "68837  p1152861    1  1091     포토아이스크림      유제품  \n",
      "68838  p1152861    1  1091     포토아이스크림      유제품  \n",
      "\n",
      "[68839 rows x 13 columns]\n"
     ]
    }
   ],
   "source": [
    "# sales = pd.merge(cus,pro,how='inner',on='Gender')\n",
    "# sales = pd.merge(sales,order,how='inner',on='Gender')\n",
    "sales=pd.merge(cus,order, how='inner',on='CustomerID')\n",
    "sales=pd.merge(sales,pro, how='inner',on='ProductID')\n",
    "# sales = pd.concat([cus,pro],join='outer',axis=0)\n",
    "# sales = pd.concat([sales,order],join='outer',axis=0)\n",
    "# sales = pd.concat([cus,pro],join='outer',axis=1)\n",
    "# sales = pd.concat([sales,order],join='outer',axis=1)\n",
    "print(sales)"
   ]
  },
  {
   "cell_type": "code",
   "execution_count": null,
   "metadata": {},
   "outputs": [],
   "source": []
  },
  {
   "cell_type": "markdown",
   "metadata": {
    "id": "RvrfT0pRgBM4"
   },
   "source": [
    "**2) 결과 확인**"
   ]
  },
  {
   "cell_type": "code",
   "execution_count": 332,
   "metadata": {
    "scrolled": false
   },
   "outputs": [
    {
     "name": "stdout",
     "output_type": "stream",
     "text": [
      "  CustomerID Gender  BirthYear Addr1 Addr2  OrderID  Seq   OrderDate  \\\n",
      "0    c017487      F       1968   경기도   성남시       46    1  2016-01-14   \n",
      "1    c017487      F       1968   경기도   성남시       37    2  2016-09-18   \n",
      "2    c017517      M       1967   경기도  남양주시       31    2  2016-01-23   \n",
      "3    c017517      M       1967   경기도  남양주시       19    3  2016-07-24   \n",
      "4    c017517      M       1967   경기도  남양주시       78    2  2017-01-02   \n",
      "5    c017522      F       1965   강원도   원주시        9    1  2016-03-20   \n",
      "6    c017522      F       1965   강원도   원주시       14    1  2016-06-03   \n",
      "7    c017538      F       1964   경기도   과천시       17    1  2016-09-14   \n",
      "8    c017538      F       1964   경기도   과천시       31    4  2016-11-26   \n",
      "9    c017538      F       1964   경기도   과천시       44    1  2017-03-07   \n",
      "\n",
      "  ProductID  Qty   Amt ProductName Category  \n",
      "0  p1013161    1  2900       느타리버섯       채소  \n",
      "1  p1013161    2  5900       느타리버섯       채소  \n",
      "2  p1013161    1  2900       느타리버섯       채소  \n",
      "3  p1013161    1  2950       느타리버섯       채소  \n",
      "4  p1013161    1  2950       느타리버섯       채소  \n",
      "5  p1013161    1  2950       느타리버섯       채소  \n",
      "6  p1013161    1  2950       느타리버섯       채소  \n",
      "7  p1013161    2  5900       느타리버섯       채소  \n",
      "8  p1013161    1  2950       느타리버섯       채소  \n",
      "9  p1013161    1  2950       느타리버섯       채소  \n",
      "      CustomerID Gender  BirthYear  Addr1 Addr2  OrderID  Seq   OrderDate  \\\n",
      "68829    c365376      F       1962    경기도   김포시       54    2  2016-05-12   \n",
      "68830    c365633      F       1975  인천광역시    서구       30    1  2016-06-18   \n",
      "68831    c366888      F       1977    경기도   김포시       10    2  2016-07-17   \n",
      "68832    c366918      F       1977  인천광역시   부평구       51    2  2016-06-09   \n",
      "68833    c366986      F       1973  서울특별시   마포구       67    1  2016-02-15   \n",
      "68834    c366986      F       1973  서울특별시   마포구       66    2  2016-05-28   \n",
      "68835    c366986      F       1973  서울특별시   마포구       23    3  2016-08-08   \n",
      "68836    c367093      F       1985  서울특별시  영등포구        5    4  2016-03-19   \n",
      "68837    c372461      F       1986    경기도   부천시       71    2  2016-08-10   \n",
      "68838    c376203      F       1978    경기도   시흥시       28    1  2016-05-25   \n",
      "\n",
      "      ProductID  Qty   Amt ProductName Category  \n",
      "68829  p1152861    1  1091     포토아이스크림      유제품  \n",
      "68830  p1152861    3  3273     포토아이스크림      유제품  \n",
      "68831  p1152861    1  1091     포토아이스크림      유제품  \n",
      "68832  p1152861    1  1091     포토아이스크림      유제품  \n",
      "68833  p1152861    1  1091     포토아이스크림      유제품  \n",
      "68834  p1152861    1  1091     포토아이스크림      유제품  \n",
      "68835  p1152861    1  1091     포토아이스크림      유제품  \n",
      "68836  p1152861    1  1091     포토아이스크림      유제품  \n",
      "68837  p1152861    1  1091     포토아이스크림      유제품  \n",
      "68838  p1152861    1  1091     포토아이스크림      유제품  \n"
     ]
    }
   ],
   "source": [
    "\n",
    "print(sales.head(10))\n",
    "print(sales.tail(10))\n"
   ]
  },
  {
   "cell_type": "code",
   "execution_count": 333,
   "metadata": {
    "id": "j-24yh-wgBM4",
    "scrolled": false
   },
   "outputs": [
    {
     "name": "stdout",
     "output_type": "stream",
     "text": [
      "CustomerID     0\n",
      "Gender         0\n",
      "BirthYear      0\n",
      "Addr1          0\n",
      "Addr2          0\n",
      "OrderID        0\n",
      "Seq            0\n",
      "OrderDate      0\n",
      "ProductID      0\n",
      "Qty            0\n",
      "Amt            0\n",
      "ProductName    0\n",
      "Category       0\n",
      "dtype: int64\n"
     ]
    }
   ],
   "source": [
    "print(sales.isna().sum())\n"
   ]
  },
  {
   "cell_type": "markdown",
   "metadata": {
    "id": "Ll_SMqdOgBM5"
   },
   "source": [
    "**3) 열 추가**\n",
    "\n",
    "- 분석을 위해 필요한 열을 추가합니다.\n",
    "- 예를 들어 다음과 같은 열들이 필요하다고 판단할 수 있습니다.\n",
    "    - OrderYear: 주문연도, 주문연도별 분석이 용이하게 하기 위함\n",
    "    - OrderMonth: 주문월, 주문년월 분석이 용이하게 하기 위함\n",
    "    - Age: 연령별 분석을 하기 위함(2017 - 출생년도) 등등"
   ]
  },
  {
   "cell_type": "code",
   "execution_count": 334,
   "metadata": {
    "id": "ICHfbKB2gBM5",
    "scrolled": false
   },
   "outputs": [
    {
     "name": "stdout",
     "output_type": "stream",
     "text": [
      "      CustomerID Gender  BirthYear  Addr1 Addr2  OrderID  Seq   OrderDate  \\\n",
      "0        c017487      F       1968    경기도   성남시       46    1  2016-01-14   \n",
      "1        c017487      F       1968    경기도   성남시       37    2  2016-09-18   \n",
      "2        c017517      M       1967    경기도  남양주시       31    2  2016-01-23   \n",
      "3        c017517      M       1967    경기도  남양주시       19    3  2016-07-24   \n",
      "4        c017517      M       1967    경기도  남양주시       78    2  2017-01-02   \n",
      "...          ...    ...        ...    ...   ...      ...  ...         ...   \n",
      "68834    c366986      F       1973  서울특별시   마포구       66    2  2016-05-28   \n",
      "68835    c366986      F       1973  서울특별시   마포구       23    3  2016-08-08   \n",
      "68836    c367093      F       1985  서울특별시  영등포구        5    4  2016-03-19   \n",
      "68837    c372461      F       1986    경기도   부천시       71    2  2016-08-10   \n",
      "68838    c376203      F       1978    경기도   시흥시       28    1  2016-05-25   \n",
      "\n",
      "      ProductID  Qty   Amt ProductName Category  OrderYear  OrderMonth  Age  \n",
      "0      p1013161    1  2900       느타리버섯       채소          0           0    0  \n",
      "1      p1013161    2  5900       느타리버섯       채소          0           0    0  \n",
      "2      p1013161    1  2900       느타리버섯       채소          0           0    0  \n",
      "3      p1013161    1  2950       느타리버섯       채소          0           0    0  \n",
      "4      p1013161    1  2950       느타리버섯       채소          0           0    0  \n",
      "...         ...  ...   ...         ...      ...        ...         ...  ...  \n",
      "68834  p1152861    1  1091     포토아이스크림      유제품          0           0    0  \n",
      "68835  p1152861    1  1091     포토아이스크림      유제품          0           0    0  \n",
      "68836  p1152861    1  1091     포토아이스크림      유제품          0           0    0  \n",
      "68837  p1152861    1  1091     포토아이스크림      유제품          0           0    0  \n",
      "68838  p1152861    1  1091     포토아이스크림      유제품          0           0    0  \n",
      "\n",
      "[68839 rows x 16 columns]\n"
     ]
    }
   ],
   "source": [
    "\n",
    "sales[['OrderYear','OrderMonth','Age']]=0\n",
    "print(sales)"
   ]
  },
  {
   "cell_type": "markdown",
   "metadata": {
    "id": "DBX8rt-PgBM5"
   },
   "source": [
    "**4) 불필요한 열 제거**\n",
    "\n",
    "- 분석에 필요가 없다고 생각되는 열은 제거합니다.\n",
    "- 새로운 열을 추가하면 기존 열이 필요하지 않을 수 있습니다.\n",
    "- 예를 들어 다음 열들이 필요하지 않다고 판단할 수 있습니다.\n",
    "    - OrderDate: 새로 추가한 OrderYear, OrderMonth 열 사용\n",
    "    - ProductID: ProductName 열 사용\n",
    "    - SubCategory: 분석 대상에서 제외 등등"
   ]
  },
  {
   "cell_type": "code",
   "execution_count": 335,
   "metadata": {},
   "outputs": [],
   "source": [
    "# 주문 년월을 각각 주문년, 주문월로 나눔\n",
    "sales['OrderYear'] = sales['OrderDate'].str.split('-').str[0]\n",
    "sales['OrderMonth'] = sales['OrderDate'].str.split('-').str[1]"
   ]
  },
  {
   "cell_type": "code",
   "execution_count": 336,
   "metadata": {},
   "outputs": [],
   "source": [
    "# 생일 => 나이\n",
    "sales['Age'] = 2017-sales['BirthYear']"
   ]
  },
  {
   "cell_type": "code",
   "execution_count": 337,
   "metadata": {
    "id": "OiIofiMIgBM5"
   },
   "outputs": [
    {
     "name": "stdout",
     "output_type": "stream",
     "text": [
      "      CustomerID Gender  Addr1 Addr2  OrderID  Seq ProductID  Qty   Amt  \\\n",
      "0        c017487      F    경기도   성남시       46    1  p1013161    1  2900   \n",
      "1        c017487      F    경기도   성남시       37    2  p1013161    2  5900   \n",
      "2        c017517      M    경기도  남양주시       31    2  p1013161    1  2900   \n",
      "3        c017517      M    경기도  남양주시       19    3  p1013161    1  2950   \n",
      "4        c017517      M    경기도  남양주시       78    2  p1013161    1  2950   \n",
      "...          ...    ...    ...   ...      ...  ...       ...  ...   ...   \n",
      "68834    c366986      F  서울특별시   마포구       66    2  p1152861    1  1091   \n",
      "68835    c366986      F  서울특별시   마포구       23    3  p1152861    1  1091   \n",
      "68836    c367093      F  서울특별시  영등포구        5    4  p1152861    1  1091   \n",
      "68837    c372461      F    경기도   부천시       71    2  p1152861    1  1091   \n",
      "68838    c376203      F    경기도   시흥시       28    1  p1152861    1  1091   \n",
      "\n",
      "      ProductName Category OrderYear OrderMonth  Age  \n",
      "0           느타리버섯       채소      2016         01   49  \n",
      "1           느타리버섯       채소      2016         09   49  \n",
      "2           느타리버섯       채소      2016         01   50  \n",
      "3           느타리버섯       채소      2016         07   50  \n",
      "4           느타리버섯       채소      2017         01   50  \n",
      "...           ...      ...       ...        ...  ...  \n",
      "68834     포토아이스크림      유제품      2016         05   44  \n",
      "68835     포토아이스크림      유제품      2016         08   44  \n",
      "68836     포토아이스크림      유제품      2016         03   32  \n",
      "68837     포토아이스크림      유제품      2016         08   31  \n",
      "68838     포토아이스크림      유제품      2016         05   39  \n",
      "\n",
      "[68839 rows x 14 columns]\n"
     ]
    }
   ],
   "source": [
    "# 필요없게된 주문년월, 생일 열 제거\n",
    "sales.drop(['BirthYear','OrderDate'],axis=1,inplace=True)\n",
    "print(sales)"
   ]
  },
  {
   "cell_type": "code",
   "execution_count": 617,
   "metadata": {},
   "outputs": [
    {
     "name": "stdout",
     "output_type": "stream",
     "text": [
      "OrderID  Seq  OrderDate   ProductID  Qty  Amt    CustomerID\n",
      "1        1    2016-01-02  p1030071   2    7900   c107853       1\n",
      "49       2    2017-02-22  p1002841   2    26200  c274126       1\n",
      "              2017-01-16  p1179241   1    2050   c092647       1\n",
      "              2017-01-18  p1013251   1    3200   c177887       1\n",
      "              2017-01-20  p1097821   4    3636   c038272       1\n",
      "                                                              ..\n",
      "25       1    2016-03-13  p1005771   1    1850   c168775       1\n",
      "              2016-03-14  p1052661   2    2910   c324337       1\n",
      "              2016-03-15  p1178011   1    8800   c140393       1\n",
      "              2016-03-16  p1194801   1    6800   c347991       1\n",
      "122      1    2016-02-06  p1133371   1    1000   c366727       1\n",
      "Length: 68839, dtype: int64\n"
     ]
    }
   ],
   "source": [
    "\n",
    "print(order.value_counts())\n",
    "\n"
   ]
  },
  {
   "cell_type": "markdown",
   "metadata": {
    "id": "m6GXYXOTgBM6"
   },
   "source": [
    "## 4.데이터 분석\n",
    "\n",
    "- 현재 판매 현황을 분석해 향후 판매 전략 수립에 중요한 정보로 활용할 것입니다.\n",
    "- 데이터를 집계하고 간단히 시각화하여 판매 현황을 분석합니다.\n",
    "- 연속형 값은 선 그래프, 범주형 값은 막대 그래프로 시각화함이 일반적입니다."
   ]
  },
  {
   "cell_type": "markdown",
   "metadata": {
    "id": "xnAS4-iJgBM6"
   },
   "source": [
    "**1) 남녀별 판매 현황**\n",
    "\n",
    "- 남녀별 판매 현황을 막대 그래프로 시각화해 확인합니다."
   ]
  },
  {
   "cell_type": "code",
   "execution_count": 342,
   "metadata": {},
   "outputs": [
    {
     "name": "stdout",
     "output_type": "stream",
     "text": [
      "  Gender        Amt\n",
      "0      F  176604277\n",
      "1      M   19384348\n"
     ]
    }
   ],
   "source": [
    "temp = sales.groupby('Gender',as_index=False)['Amt'].sum()\n",
    "print(temp)"
   ]
  },
  {
   "cell_type": "code",
   "execution_count": 580,
   "metadata": {
    "id": "WEvcSWHSgBM6"
   },
   "outputs": [
    {
     "data": {
      "image/png": "[encoded data removed]",
      "text/plain": [
       "<Figure size 432x288 with 1 Axes>"
      ]
     },
     "metadata": {
      "image/png": {
       "height": 264,
       "width": 374
      },
      "needs_background": "light"
     },
     "output_type": "display_data"
    }
   ],
   "source": [
    "# 남성, 여성간 판매액\n",
    "plt.title('남성, 여성간 판매액')\n",
    "plt.bar(temp['Gender'],temp['Amt'])\n",
    "plt.show()\n",
    "\n",
    "# 남성 판매량 증가를 위해서 남성이 원하는 상품을 추가해야할 필요가 보임."
   ]
  },
  {
   "cell_type": "markdown",
   "metadata": {
    "id": "cN83XzDHgBM7"
   },
   "source": [
    "**2) 지역별 판매 현황**\n",
    "\n",
    "- 지역별 판매 현황을 막대 그래프로 시각화해 확인합니다."
   ]
  },
  {
   "cell_type": "code",
   "execution_count": 346,
   "metadata": {},
   "outputs": [
    {
     "name": "stdout",
     "output_type": "stream",
     "text": [
      "    Addr1        Amt\n",
      "0     강원도    6397272\n",
      "1     경기도  112347668\n",
      "2    경상남도       3000\n",
      "3    경상북도      60400\n",
      "4   광주광역시      60914\n",
      "5   대구광역시    1071667\n",
      "6   서울특별시   47027183\n",
      "7   인천광역시   27743748\n",
      "8    전라남도     117339\n",
      "9    전라북도      13941\n",
      "10   충청남도     601028\n",
      "11   충청북도     544465\n"
     ]
    }
   ],
   "source": [
    "temp2 = sales.groupby('Addr1',as_index=False)['Amt'].sum()\n",
    "print(temp2)"
   ]
  },
  {
   "cell_type": "code",
   "execution_count": 581,
   "metadata": {
    "id": "bvPb1xzogBM7",
    "scrolled": true
   },
   "outputs": [
    {
     "data": {
      "image/png": "[encoded data removed]",
      "text/plain": [
       "<Figure size 432x288 with 1 Axes>"
      ]
     },
     "metadata": {
      "image/png": {
       "height": 297,
       "width": 369
      },
      "needs_background": "light"
     },
     "output_type": "display_data"
    }
   ],
   "source": [
    "# 지역별 판매액\n",
    "plt.title('지역별 판매액')\n",
    "plt.bar(temp2['Addr1'],temp2['Amt'])\n",
    "plt.xticks(rotation=45)\n",
    "plt.show()\n",
    "\n",
    "# 수도권에 몰려있는걸 확인 가능."
   ]
  },
  {
   "cell_type": "markdown",
   "metadata": {
    "id": "tOUH5zU8zf9k"
   },
   "source": [
    "**3) 추가**"
   ]
  },
  {
   "cell_type": "code",
   "execution_count": 357,
   "metadata": {},
   "outputs": [
    {
     "name": "stdout",
     "output_type": "stream",
     "text": [
      "  Category       Amt\n",
      "0       간식  13081325\n",
      "1       과일  50067195\n",
      "2      반찬류  32288089\n",
      "3      유제품  45338311\n",
      "4       채소  55213705\n"
     ]
    }
   ],
   "source": [
    "temp3 = sales.groupby('Category',as_index=False)['Amt'].sum()\n",
    "print(temp3)"
   ]
  },
  {
   "cell_type": "code",
   "execution_count": 583,
   "metadata": {
    "id": "mjefn46bzjWW"
   },
   "outputs": [
    {
     "data": {
      "image/png": "[encoded data removed]",
      "text/plain": [
       "<Figure size 432x288 with 1 Axes>"
      ]
     },
     "metadata": {
      "image/png": {
       "height": 282,
       "width": 361
      },
      "needs_background": "light"
     },
     "output_type": "display_data"
    }
   ],
   "source": [
    "plt.title('많이 판매된 제품 종류')\n",
    "plt.bar(temp3['Category'],temp3['Amt'])\n",
    "plt.xticks(rotation=45)\n",
    "plt.show()\n",
    "\n",
    "# 채소 > 과일 > 유제품 > 반찬류 > 간식 순서로 판매가 이뤄지고 있다."
   ]
  },
  {
   "cell_type": "markdown",
   "metadata": {
    "id": "RXHtLPhzzj-d"
   },
   "source": [
    "**4) 추가**"
   ]
  },
  {
   "cell_type": "code",
   "execution_count": 610,
   "metadata": {
    "id": "WaqWFfhazj-e"
   },
   "outputs": [
    {
     "name": "stdout",
     "output_type": "stream",
     "text": [
      "  Category        Age\n",
      "0       간식  43.513541\n",
      "1       과일  45.483304\n",
      "2      반찬류  47.089142\n",
      "3      유제품  43.985429\n",
      "4       채소  46.005546\n"
     ]
    }
   ],
   "source": [
    "# 각 제품 카테고리 구매자 평균 연령\n",
    "temp4 = sales.groupby('Category',as_index=False)['Age'].mean()\n",
    "print(temp4)"
   ]
  },
  {
   "cell_type": "code",
   "execution_count": 611,
   "metadata": {},
   "outputs": [
    {
     "data": {
      "image/png": "[encoded data removed]",
      "text/plain": [
       "<Figure size 432x288 with 1 Axes>"
      ]
     },
     "metadata": {
      "image/png": {
       "height": 282,
       "width": 367
      },
      "needs_background": "light"
     },
     "output_type": "display_data"
    }
   ],
   "source": [
    "plt.title('각 물품별 구매자 평균 나이')\n",
    "plt.bar(temp4['Category'],temp4['Age'])\n",
    "plt.xticks(rotation=45)\n",
    "plt.show()\n",
    "\n",
    "# 40대가 주요 고객층인걸 확인 가능.\n",
    "# 이를통해 부모님 선물 목적의 건강용품이나 자식 장난감 등을 제품에 추가한다면 효과적일 수 있다."
   ]
  },
  {
   "cell_type": "markdown",
   "metadata": {
    "id": "whE4SZXmzkQR"
   },
   "source": [
    "**5) 추가**"
   ]
  },
  {
   "cell_type": "code",
   "execution_count": 594,
   "metadata": {
    "id": "PWk4bHvFzkQU"
   },
   "outputs": [
    {
     "name": "stdout",
     "output_type": "stream",
     "text": [
      "   ProductName       Amt\n",
      "37      우유1000  18122113\n",
      "23        사과_소  14129078\n",
      "9         딸기_대  11064509\n",
      "7         두부_대  10108897\n",
      "10        딸기_소   7562421\n",
      "8         두부_소   7348918\n",
      "49         콩나물   6987517\n",
      "39       유기농우유   6445713\n",
      "50         토마토   6369971\n",
      "43          참외   5490530\n",
      "22        사과_대   5450686\n",
      "57      플레인요거트   5214557\n",
      "52           파   4537888\n",
      "6           당근   4484750\n",
      "41       저지방우유   4408729\n",
      "5        느타리버섯   4202899\n",
      "44         청오이   3963278\n",
      "1          감자칩   3707446\n",
      "32         애호박   3511470\n",
      "20        브로컬리   3503112\n",
      "13          마늘   3367627\n",
      "31         쌈모음   3227171\n",
      "58          피망   3203181\n",
      "3           깻잎   2908859\n",
      "30         시금치   2679890\n",
      "28        숙주나물   2616053\n",
      "15      무농약시금치   2505802\n",
      "46        초코우유   2473211\n",
      "26         새우깡   2379314\n",
      "38       우유200   2352348\n",
      "42          짱구   2182495\n",
      "40          유부   2137066\n",
      "17         백오이   2053063\n",
      "36          열무   1904092\n",
      "2        고구마스틱   1622977\n",
      "25          상추   1503694\n",
      "33         양배출   1474920\n",
      "14           무   1273705\n",
      "21        뿌셔뿌셔   1270223\n",
      "19       부침용두부   1249965\n",
      "45     초코아이스크림   1164846\n",
      "18          부추   1073548\n",
      "35         연두부   1026817\n",
      "12       딸기요거트    957997\n",
      "48          콘칩    949138\n",
      "11     딸기아이스크림    946825\n",
      "51        통단팥빵    838672\n",
      "24     사과아이스크림    817666\n",
      "29         순두부    812856\n",
      "55       포도컵푸딩    783907\n",
      "34          양파    776712\n",
      "53      팥아이스크림    764761\n",
      "54        팽이버섯    696116\n",
      "0        감귤컵푸딩    681699\n",
      "56     포토아이스크림    673358\n",
      "16      배아이스크림    622266\n",
      "27        소보루빵    541906\n",
      "4         낱개캔디    485476\n",
      "47         초코콘    373921\n"
     ]
    }
   ],
   "source": [
    "# 많이 판매된 제품\n",
    "temp5 = sales.groupby('ProductName',as_index=False)['Amt'].sum()\n",
    "temp5 = temp5.sort_values(by='Amt',ascending=False)\n",
    "\n",
    "print(temp5)\n",
    "\n"
   ]
  },
  {
   "cell_type": "code",
   "execution_count": 585,
   "metadata": {},
   "outputs": [
    {
     "data": {
      "image/png": "[encoded data removed]",
      "text/plain": [
       "<Figure size 1440x360 with 1 Axes>"
      ]
     },
     "metadata": {
      "image/png": {
       "height": 378,
       "width": 1156
      },
      "needs_background": "light"
     },
     "output_type": "display_data"
    }
   ],
   "source": [
    "\n",
    "plt.figure(figsize=(20,5))\n",
    "plt.title('많이 판매된 제품')\n",
    "plt.plot(temp5['ProductName'],temp5['Amt'],marker='s',color='g')\n",
    "plt.xticks(rotation=70)\n",
    "plt.show()\n",
    "\n",
    "# 우유 > 사과(소) > 두부 순서로 많이 팔린걸 알 수 있다."
   ]
  },
  {
   "cell_type": "markdown",
   "metadata": {
    "id": "ajTIZ9gNgBM7"
   },
   "source": [
    "## 5.고객 분류\n",
    "\n",
    "* 고객을 등급을 나눠 판매 현황을 분석하고 이에 따른 판매 전략을 수립하려합니다.\n",
    "- 우선 고객을 일정 기준에 따라 분류하고 등급을 지정해야 합니다.\n",
    "- 다음과 같은 순서로 처리하면 될 것입니다.\n",
    "    - 고객별 주문 수량 합, 판매 금액 합을 갖는 데이터프레임 선언\n",
    "    - 고객 분류 기준과 이 기준에 따른 등급 이름 정의\n",
    "    - 고객 등급을 갖는 새로운 Level 열 추가"
   ]
  },
  {
   "cell_type": "markdown",
   "metadata": {
    "id": "oYwVs7u2gBM7"
   },
   "source": [
    "**1) 고객별 집계**\n",
    "\n",
    "* 고객별 주문 수량 합, 판매 금액 합을 갖는 cst 데이터프레임을 선언합니다."
   ]
  },
  {
   "cell_type": "code",
   "execution_count": 460,
   "metadata": {
    "id": "JHF506hggBM8"
   },
   "outputs": [
    {
     "name": "stdout",
     "output_type": "stream",
     "text": [
      "     CustomerID  Seq\n",
      "0       c017487   90\n",
      "1       c017503   37\n",
      "2       c017517  124\n",
      "3       c017522   61\n",
      "4       c017526   21\n",
      "...         ...  ...\n",
      "2232    c400937    1\n",
      "2233    c401555    3\n",
      "2234    c401584    2\n",
      "2235    c402010    3\n",
      "2236    c402634    3\n",
      "\n",
      "[2237 rows x 2 columns]\n",
      "     CustomerID     Amt\n",
      "0       c017487  296447\n",
      "1       c017503  160444\n",
      "2       c017517  317590\n",
      "3       c017522  219849\n",
      "4       c017526   48881\n",
      "...         ...     ...\n",
      "2232    c400937    1650\n",
      "2233    c401555   11940\n",
      "2234    c401584    6509\n",
      "2235    c402010   20650\n",
      "2236    c402634    4850\n",
      "\n",
      "[2237 rows x 2 columns]\n"
     ]
    }
   ],
   "source": [
    "\n",
    "temp6 = sales.groupby('CustomerID',as_index=False)['Seq'].count()\n",
    "temp7 = sales.groupby('CustomerID',as_index=False)['Amt'].sum()\n",
    "print(temp6)\n",
    "print(temp7)\n",
    "\n"
   ]
  },
  {
   "cell_type": "code",
   "execution_count": 518,
   "metadata": {},
   "outputs": [
    {
     "name": "stdout",
     "output_type": "stream",
     "text": [
      "     CustomerID  Seq     Amt\n",
      "0       c017487   90  296447\n",
      "1       c017503   37  160444\n",
      "2       c017517  124  317590\n",
      "3       c017522   61  219849\n",
      "4       c017526   21   48881\n",
      "...         ...  ...     ...\n",
      "2232    c400937    1    1650\n",
      "2233    c401555    3   11940\n",
      "2234    c401584    2    6509\n",
      "2235    c402010    3   20650\n",
      "2236    c402634    3    4850\n",
      "\n",
      "[2237 rows x 3 columns]\n"
     ]
    }
   ],
   "source": [
    "cst = pd.merge(temp6,temp7,on='CustomerID',how='inner')\n",
    "print(cst)"
   ]
  },
  {
   "cell_type": "markdown",
   "metadata": {
    "id": "Se7JGfL4gBM8"
   },
   "source": [
    "**2) 고객 분류 기준 찾기**\n",
    "\n",
    "- 고객 등급 분류 기준을 찾기 위해 관련 데이터를 확인합니다."
   ]
  },
  {
   "cell_type": "code",
   "execution_count": 519,
   "metadata": {},
   "outputs": [
    {
     "name": "stdout",
     "output_type": "stream",
     "text": [
      "     CustomerID  Seq      Amt\n",
      "975     c206248  273  1245250\n",
      "494     c110521  289  1111062\n",
      "1172    c236759  389  1084895\n",
      "331     c085186  282  1080608\n",
      "120     c043687  234  1043129\n",
      "...         ...  ...      ...\n",
      "1459    c302101    1      600\n",
      "2172    c392000    1      600\n",
      "495     c110727    1      600\n",
      "1693    c334275    1      273\n",
      "972     c205545    1      273\n",
      "\n",
      "[2237 rows x 3 columns]\n"
     ]
    }
   ],
   "source": [
    "tmp = cst.sort_values(by='Amt',ascending=False)\n",
    "print(tmp)"
   ]
  },
  {
   "cell_type": "code",
   "execution_count": 520,
   "metadata": {
    "id": "OjoihrbtgBM8"
   },
   "outputs": [
    {
     "name": "stdout",
     "output_type": "stream",
     "text": [
      "               Seq           Amt\n",
      "count  2237.000000  2.237000e+03\n",
      "mean     30.772910  8.761226e+04\n",
      "std      46.525738  1.401784e+05\n",
      "min       1.000000  2.730000e+02\n",
      "25%       3.000000  8.450000e+03\n",
      "50%      11.000000  3.015000e+04\n",
      "75%      37.000000  1.026730e+05\n",
      "max     389.000000  1.245250e+06\n"
     ]
    }
   ],
   "source": [
    "\n",
    "print(cst.describe())\n"
   ]
  },
  {
   "cell_type": "markdown",
   "metadata": {
    "id": "OqXtZMluFrHv"
   },
   "source": [
    "**3) 고객 분류 기준 정리**\n",
    "\n",
    "- 고객 등급 분류 기준과 그 기준에 따른 등급 이름을 정리합니다.\n",
    "- 예를 들면 다음과 같은 기준과 등급 이름을 정의할 수 있을 것입니다.\n",
    "    - ~ 30,000: Family\n",
    "    - 30,000 ~ 100,000: Bronze\n",
    "    - 100,000 ~ 300,000: Silver\n",
    "    - 300,000 ~ : Gold\n",
    "    - 600,000 ~ : Platinum\n",
    "- 분류 기준과 등급 이름\n",
    "    -  25% 미만 : 비기너 클래스\n",
    "    -  25% ~ 50% 미만 : 엘리멘트리 클래스\n",
    "    -  50% ~ 75% 미만 : 미들 클래스\n",
    "    -  75% 이상 : 하이 클래스"
   ]
  },
  {
   "cell_type": "markdown",
   "metadata": {
    "id": "aav9vJSTgBM8"
   },
   "source": [
    "**4) 고객 등급 반영**\n",
    "\n",
    "- 각자 정의한 기준에 따라 고객 등급을 Level 열로 저장합니다."
   ]
  },
  {
   "cell_type": "code",
   "execution_count": 521,
   "metadata": {},
   "outputs": [
    {
     "name": "stdout",
     "output_type": "stream",
     "text": [
      "     CustomerID  Seq     Amt\n",
      "0       c017487   90  296447\n",
      "1       c017503   37  160444\n",
      "2       c017517  124  317590\n",
      "3       c017522   61  219849\n",
      "4       c017526   21   48881\n",
      "...         ...  ...     ...\n",
      "2232    c400937    1    1650\n",
      "2233    c401555    3   11940\n",
      "2234    c401584    2    6509\n",
      "2235    c402010    3   20650\n",
      "2236    c402634    3    4850\n",
      "\n",
      "[2237 rows x 3 columns]\n"
     ]
    }
   ],
   "source": [
    "print(cst)"
   ]
  },
  {
   "cell_type": "code",
   "execution_count": 522,
   "metadata": {
    "id": "QgxDdl-EgBM8"
   },
   "outputs": [
    {
     "name": "stdout",
     "output_type": "stream",
     "text": [
      "     CustomerID  Seq     Amt Rank\n",
      "0       c017487   90  296447   r1\n",
      "1       c017503   37  160444   r1\n",
      "2       c017517  124  317590   r1\n",
      "3       c017522   61  219849   r1\n",
      "4       c017526   21   48881   r1\n",
      "...         ...  ...     ...  ...\n",
      "2232    c400937    1    1650   r1\n",
      "2233    c401555    3   11940   r1\n",
      "2234    c401584    2    6509   r1\n",
      "2235    c402010    3   20650   r1\n",
      "2236    c402634    3    4850   r1\n",
      "\n",
      "[2237 rows x 4 columns]\n"
     ]
    }
   ],
   "source": [
    "cst['Rank'] = pd.cut(cst['Amt'],3,labels = ['r1','r2','r3'])\n",
    "# 판매액에 따라 등급을 나눔.\n",
    "# r1 = cst.loc[cst['Amt']<300000]\n",
    "# r2 = cst.loc[(cst['Amt']>=300000)&(cst['Amt']<600000)]\n",
    "# r3 = cst.loc[(cst['Amt']>=600000)&(cst['Amt']<900000)]\n",
    "# r4 = cst.loc[cst['Amt']>=900000]\n",
    "\n",
    "r1 = cst.describe().loc['25%','Amt']\n",
    "r2 = cst.describe().loc['50%','Amt']\n",
    "r3 = cst.describe().loc['75%','Amt']\n",
    "\n",
    "print(cst)\n",
    "# print(r1)\n",
    "# print('=='*30)\n",
    "# print(r2)\n",
    "# print('=='*30)\n",
    "# print(r3)\n",
    "# print('=='*30)\n",
    "# print(r4)"
   ]
  },
  {
   "cell_type": "markdown",
   "metadata": {
    "id": "krCEvndzGUiq"
   },
   "source": [
    "- 등급별 고객 수를 확인해 등급이 적절히 나뉘었는지 검증합니다.\n",
    "- 검증 결과가 적절하지 않다면 위 기준을 변경해 등급을 다시 나눕니다."
   ]
  },
  {
   "cell_type": "code",
   "execution_count": 523,
   "metadata": {},
   "outputs": [
    {
     "name": "stdout",
     "output_type": "stream",
     "text": [
      "r1    2157\n",
      "r2      69\n",
      "r3      11\n",
      "Name: Rank, dtype: int64\n"
     ]
    }
   ],
   "source": [
    "print(cst['Rank'].value_counts())"
   ]
  },
  {
   "cell_type": "code",
   "execution_count": 524,
   "metadata": {
    "id": "6G2TSGW1gBM8"
   },
   "outputs": [
    {
     "name": "stdout",
     "output_type": "stream",
     "text": [
      "     CustomerID  Seq     Amt       Rank\n",
      "0       c017487   90  296447     하이 클래스\n",
      "1       c017503   37  160444     하이 클래스\n",
      "2       c017517  124  317590     하이 클래스\n",
      "3       c017522   61  219849     하이 클래스\n",
      "4       c017526   21   48881     미들 클래스\n",
      "...         ...  ...     ...        ...\n",
      "2232    c400937    1    1650    비기너 클래스\n",
      "2233    c401555    3   11940  엘리멘트리 클래스\n",
      "2234    c401584    2    6509    비기너 클래스\n",
      "2235    c402010    3   20650  엘리멘트리 클래스\n",
      "2236    c402634    3    4850    비기너 클래스\n",
      "\n",
      "[2237 rows x 4 columns]\n"
     ]
    }
   ],
   "source": [
    "\n",
    "bin = [-np.inf,r1,r2,r3,np.inf]\n",
    "label = ['비기너 클래스','엘리멘트리 클래스','미들 클래스','하이 클래스']\n",
    "cst['Rank'] = pd.cut(cst['Amt'],bins=bin,labels=label)\n",
    "\n",
    "\n",
    "print(cst)"
   ]
  },
  {
   "cell_type": "markdown",
   "metadata": {
    "id": "xRweF7aygBM9"
   },
   "source": [
    "## 6.등급별 고객 분석\n",
    "\n",
    "- 고객 등급을 기준으로 다양한 분석을 진행합니다.\n",
    "- 등급 별 분석은 판매 전략을 새롭게 수립하는 데 중요한 자료가 될 것입니다.\n",
    "- 분석 과정에서 판매 전략에 대한 부분을 고민해 보시기 바랍니다."
   ]
  },
  {
   "cell_type": "markdown",
   "metadata": {
    "id": "FhuIC1EigBM9"
   },
   "source": [
    "**1) 등급별 판매 수량**\n",
    "\n",
    "- 고객 등급별 판매 수량을 막대 그래프로 시각화해 확인합니다."
   ]
  },
  {
   "cell_type": "code",
   "execution_count": 525,
   "metadata": {
    "id": "fQMK4rnLgBM9"
   },
   "outputs": [
    {
     "data": {
      "image/png": "[encoded data removed]",
      "text/plain": [
       "<Figure size 432x288 with 1 Axes>"
      ]
     },
     "metadata": {
      "image/png": {
       "height": 264,
       "width": 372
      },
      "needs_background": "light"
     },
     "output_type": "display_data"
    }
   ],
   "source": [
    "plt.title('등급별 판매 수량')\n",
    "plt.bar(cst['Rank'],cst['Seq'],color='g')\n",
    "plt.show()\n",
    "\n",
    "# 예상대로 하이클래스의 판매 수량이 압도적으로 높음."
   ]
  },
  {
   "cell_type": "markdown",
   "metadata": {
    "id": "hOZBoX2KgBM9"
   },
   "source": [
    "**2) 등급별 판매 금액**\n",
    "\n",
    "- 고객 등급별 판매 금액을 막대 그래프로 시각화해 확인합니다. "
   ]
  },
  {
   "cell_type": "code",
   "execution_count": 526,
   "metadata": {
    "id": "pSovttlfgBM-",
    "scrolled": false
   },
   "outputs": [
    {
     "data": {
      "image/png": "[encoded data removed]",
      "text/plain": [
       "<Figure size 432x288 with 1 Axes>"
      ]
     },
     "metadata": {
      "image/png": {
       "height": 264,
       "width": 369
      },
      "needs_background": "light"
     },
     "output_type": "display_data"
    }
   ],
   "source": [
    "plt.title('등급별 판매 금액')\n",
    "plt.bar(cst['Rank'],cst['Amt'], color = 'c')\n",
    "plt.show()\n",
    "\n",
    "# 위 지표와 크게 다를게 없음."
   ]
  },
  {
   "cell_type": "markdown",
   "metadata": {
    "id": "roH6tulQz6ib"
   },
   "source": [
    "**3) 추가**"
   ]
  },
  {
   "cell_type": "code",
   "execution_count": 607,
   "metadata": {},
   "outputs": [
    {
     "name": "stdout",
     "output_type": "stream",
     "text": [
      "     CustomerID  Seq     Amt       Rank          Avg  Age\n",
      "0       c017487   90  296447     하이 클래스  3293.855556   49\n",
      "1       c017503   37  160444     하이 클래스  4336.324324   49\n",
      "2       c017517  124  317590     하이 클래스  2561.209677   50\n",
      "3       c017522   61  219849     하이 클래스  3604.081967   50\n",
      "4       c017526   21   48881     미들 클래스  2327.666667   50\n",
      "...         ...  ...     ...        ...          ...  ...\n",
      "2232    c400937    1    1650    비기너 클래스  1650.000000   33\n",
      "2233    c401555    3   11940  엘리멘트리 클래스  3980.000000   42\n",
      "2234    c401584    2    6509    비기너 클래스  3254.500000   75\n",
      "2235    c402010    3   20650  엘리멘트리 클래스  6883.333333   75\n",
      "2236    c402634    3    4850    비기너 클래스  1616.666667   45\n",
      "\n",
      "[2237 rows x 6 columns]\n"
     ]
    }
   ],
   "source": [
    "t = cst.copy()\n",
    "t.groupby('Rank',as_index=True)['Seq'].mean()\n",
    "t['Avg'] = t['Amt']/t['Seq']\n",
    "# cst['Avg'] = cst['Amt']/cst['Seq']\n",
    "\n",
    "print(t)"
   ]
  },
  {
   "cell_type": "code",
   "execution_count": 608,
   "metadata": {
    "id": "8ZBjHX04z6ie"
   },
   "outputs": [
    {
     "data": {
      "image/png": "[encoded data removed]",
      "text/plain": [
       "<Figure size 432x288 with 1 Axes>"
      ]
     },
     "metadata": {
      "image/png": {
       "height": 264,
       "width": 383
      },
      "needs_background": "light"
     },
     "output_type": "display_data"
    }
   ],
   "source": [
    "# 등급별 평균 건당 구매액.\n",
    "plt.title('평균 건당 구매액 평균.')\n",
    "plt.bar(t['Rank'],t['Avg'], color = 'm')\n",
    "plt.show()\n"
   ]
  },
  {
   "cell_type": "markdown",
   "metadata": {
    "id": "Kzbj_osuz9uj"
   },
   "source": [
    "**4) 추가**"
   ]
  },
  {
   "cell_type": "code",
   "execution_count": 539,
   "metadata": {},
   "outputs": [
    {
     "name": "stdout",
     "output_type": "stream",
     "text": [
      "     CustomerID  Seq     Amt       Rank          Avg  Age\n",
      "0       c017487   90  296447     하이 클래스  3293.855556   49\n",
      "1       c017503   37  160444     하이 클래스  4336.324324   49\n",
      "2       c017517  124  317590     하이 클래스  2561.209677   50\n",
      "3       c017522   61  219849     하이 클래스  3604.081967   50\n",
      "4       c017526   21   48881     미들 클래스  2327.666667   50\n",
      "...         ...  ...     ...        ...          ...  ...\n",
      "2232    c400937    1    1650    비기너 클래스  1650.000000   33\n",
      "2233    c401555    3   11940  엘리멘트리 클래스  3980.000000   42\n",
      "2234    c401584    2    6509    비기너 클래스  3254.500000   75\n",
      "2235    c402010    3   20650  엘리멘트리 클래스  6883.333333   75\n",
      "2236    c402634    3    4850    비기너 클래스  1616.666667   45\n",
      "\n",
      "[2237 rows x 6 columns]\n"
     ]
    }
   ],
   "source": [
    "\n",
    "cst['Age'] = sales['Age']\n",
    "print(cst)"
   ]
  },
  {
   "cell_type": "code",
   "execution_count": 577,
   "metadata": {},
   "outputs": [
    {
     "name": "stdout",
     "output_type": "stream",
     "text": [
      "        Rank        Age\n",
      "0    비기너 클래스  46.735714\n",
      "1  엘리멘트리 클래스  46.716071\n",
      "2     미들 클래스  47.320789\n",
      "3     하이 클래스  47.545617\n"
     ]
    }
   ],
   "source": [
    "# tmp = cst.copy()\n",
    "# tmp['Age'] = tmp.groupby('Rank',as_index=True)['Age'].agg('mean')\n",
    "# print(tmp)\n",
    "tmp2 = cst.copy()\n",
    "tmp2 = cst.groupby('Rank',as_index=False)[['Age']].mean()\n",
    "print(tmp2)"
   ]
  },
  {
   "cell_type": "code",
   "execution_count": 576,
   "metadata": {
    "id": "UrsREvDFz9uk"
   },
   "outputs": [
    {
     "data": {
      "image/png": "[encoded data removed]",
      "text/plain": [
       "<Figure size 432x288 with 1 Axes>"
      ]
     },
     "metadata": {
      "image/png": {
       "height": 249,
       "width": 367
      },
      "needs_background": "light"
     },
     "output_type": "display_data"
    }
   ],
   "source": [
    "# 각 클래스별 평균 나이 \n",
    "plt.bar(tmp2['Rank'],tmp2['Age'])\n",
    "plt.show()\n",
    "# 거의 똑같다."
   ]
  },
  {
   "cell_type": "markdown",
   "metadata": {
    "id": "I2jF2_b1z9zK"
   },
   "source": [
    "**5) 추가**"
   ]
  },
  {
   "cell_type": "code",
   "execution_count": 588,
   "metadata": {},
   "outputs": [
    {
     "name": "stdout",
     "output_type": "stream",
     "text": [
      "        Rank     Amt\n",
      "0    비기너 클래스     273\n",
      "1  엘리멘트리 클래스    8500\n",
      "2     미들 클래스   30250\n",
      "3     하이 클래스  103078\n"
     ]
    }
   ],
   "source": [
    "tmp3 = cst.copy()\n",
    "tmp3 = cst.groupby('Rank',as_index=False)['Amt'].min()\n",
    "print(tmp3)"
   ]
  },
  {
   "cell_type": "code",
   "execution_count": 591,
   "metadata": {
    "id": "2QyGSEBKz9zL"
   },
   "outputs": [
    {
     "data": {
      "image/png": "[encoded data removed]",
      "text/plain": [
       "<Figure size 432x288 with 1 Axes>"
      ]
     },
     "metadata": {
      "image/png": {
       "height": 264,
       "width": 389
      },
      "needs_background": "light"
     },
     "output_type": "display_data"
    }
   ],
   "source": [
    "# 등급 달성을 위한 최소 구매액\n",
    "plt.title('등급 달성을 위한 최소 구매액')\n",
    "plt.bar(tmp3['Rank'],tmp3['Amt'])\n",
    "plt.show()\n",
    "\n",
    "# 엘리멘트리를 위해선 약 8천 / 미들은 3만 / 하이는 10만을 지불해야함."
   ]
  },
  {
   "cell_type": "markdown",
   "metadata": {
    "id": "yoSBcxGigBM-"
   },
   "source": [
    "## 7.정리\n",
    "\n",
    "- 분석을 통해 확인한 내용을 정리합니다."
   ]
  },
  {
   "cell_type": "markdown",
   "metadata": {
    "id": "dVvspGWngBM-"
   },
   "source": [
    "**1) 의견**\n",
    "\n",
    "\n",
    "\n",
    "\n"
   ]
  },
  {
   "cell_type": "markdown",
   "metadata": {
    "id": "127KsaRJgBM-"
   },
   "source": [
    "- 구매자 평균 나이가 4~50대이기에 어린이 장난감, 부모님 선물도 제품에 넣는다면 큰 효과를 볼 수 있다.\n",
    "- 여성 구매자가 압도적으로 많아 여성 제품 추가도 괜찮음.\n",
    "- 우유, 사과, 딸기, 두부, 콩나물이 주력 상품이라 제품 리뉴얼 할 때 빼지 말아야 함.\n",
    "- 구매액으로 보면 하이클래스가 압도적으로 높았는데 등급별 평균 구매액은 계단식 구조라 흥미로움.\n",
    "- 남성층, 젊은층의 고객이 상대적으로 부족한데 이들에게 흥미를 끌 제품이 필요함."
   ]
  },
  {
   "cell_type": "markdown",
   "metadata": {
    "id": "FYaHYxzZgBM-"
   },
   "source": [
    "**2) 기타**"
   ]
  },
  {
   "cell_type": "markdown",
   "metadata": {
    "id": "wl2r0MxDgBM-"
   },
   "source": [
    "- 여태 사용했던 함수들을 모두 사용하는 시간을 가졌는데 많이 힘들었다.\n",
    "- 보는 시각에 따라 해석이 다양할 수 있어서 통계는 어렵다고 생각한다.\n",
    "- 상황에 따라 써야할 함수를 판별하는데 도움이 됐다.\n",
    "- 파이썬 역량을 늘리는데 좋은 시간이였다.\n",
    "- 표를 볼때마다 대한민국이 아니라 서울 공화국임을 깨닫고 있다."
   ]
  }
 ],
 "metadata": {
  "colab": {
   "collapsed_sections": [],
   "name": "X04 - [레벨업] 소매점 판매 현황.ipynb",
   "provenance": []
  },
  "kernelspec": {
   "display_name": "Python 3 (ipykernel)",
   "language": "python",
   "name": "python3"
  },
  "language_info": {
   "codemirror_mode": {
    "name": "ipython",
    "version": 3
   },
   "file_extension": ".py",
   "mimetype": "text/x-python",
   "name": "python",
   "nbconvert_exporter": "python",
   "pygments_lexer": "ipython3",
   "version": "3.9.7"
  }
 },
 "nbformat": 4,
 "nbformat_minor": 1
}
